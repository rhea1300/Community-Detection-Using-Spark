{
 "cells": [
  {
   "cell_type": "code",
   "execution_count": 1,
   "metadata": {},
   "outputs": [
    {
     "name": "stdout",
     "output_type": "stream",
     "text": [
      "Requirement already satisfied: pyspark in /Users/rheagupta/.venv/lib/python3.11/site-packages (3.5.3)\n",
      "Requirement already satisfied: py4j==0.10.9.7 in /Users/rheagupta/.venv/lib/python3.11/site-packages (from pyspark) (0.10.9.7)\n"
     ]
    }
   ],
   "source": [
    "#!apt install openjdk-8-jdk-headless -qq\n",
    "import os\n",
    "os.environ[\"JAVA_HOME\"] = \"/opt/homebrew/opt/openjdk@11/libexec/openjdk.jdk/Contents/Home\"\n"
   ]
  },
  {
   "cell_type": "markdown",
   "metadata": {},
   "source": [
    "THE CODE ABOVE IS TO INSTALL AND SET THE REQUIRED ENVIRONMENTS IN MACOS. To run this in windows, pyspark should be setup appropritely. "
   ]
  },
  {
   "cell_type": "code",
   "execution_count": 2,
   "metadata": {},
   "outputs": [],
   "source": [
    "import json\n",
    "import pyspark\n",
    "from pyspark import SparkContext, SparkConf\n",
    "from pyspark.sql import SparkSession"
   ]
  },
  {
   "cell_type": "code",
   "execution_count": 3,
   "metadata": {},
   "outputs": [
    {
     "name": "stderr",
     "output_type": "stream",
     "text": [
      "24/10/25 12:36:31 WARN Utils: Your hostname, Rheas-MacBook-Pro.local resolves to a loopback address: 127.0.0.1; using 192.168.1.116 instead (on interface en0)\n",
      "24/10/25 12:36:31 WARN Utils: Set SPARK_LOCAL_IP if you need to bind to another address\n",
      "Setting default log level to \"WARN\".\n",
      "To adjust logging level use sc.setLogLevel(newLevel). For SparkR, use setLogLevel(newLevel).\n",
      "24/10/25 12:36:31 WARN NativeCodeLoader: Unable to load native-hadoop library for your platform... using builtin-java classes where applicable\n"
     ]
    }
   ],
   "source": [
    "spark = SparkSession.builder.appName(\"CommunityRDD\").getOrCreate()\n",
    "sc = spark.sparkContext"
   ]
  },
  {
   "cell_type": "code",
   "execution_count": 4,
   "metadata": {},
   "outputs": [],
   "source": [
    "json_file_path = '../Community Detection/10K.json'\n",
    "with open(json_file_path, 'r') as f:\n",
    "    community_data = json.load(f)"
   ]
  },
  {
   "cell_type": "code",
   "execution_count": 5,
   "metadata": {},
   "outputs": [],
   "source": [
    "#Each community has nodes and edges, and we will assign a unique community ID to each\n",
    "def add_community_id(community_list):\n",
    "    for idx, community in enumerate(community_list, start=1):\n",
    "        community['community_id'] = idx\n",
    "    return community_list"
   ]
  },
  {
   "cell_type": "code",
   "execution_count": 6,
   "metadata": {},
   "outputs": [
    {
     "data": {
      "text/plain": [
       "pyspark.rdd.RDD"
      ]
     },
     "execution_count": 6,
     "metadata": {},
     "output_type": "execute_result"
    }
   ],
   "source": [
    "community_data_with_ids = add_community_id(community_data)\n",
    "community_rdd = sc.parallelize(community_data_with_ids)\n",
    "type(community_rdd)"
   ]
  },
  {
   "cell_type": "code",
   "execution_count": 7,
   "metadata": {},
   "outputs": [
    {
     "data": {
      "text/plain": [
       "pyspark.rdd.PipelinedRDD"
      ]
     },
     "execution_count": 7,
     "metadata": {},
     "output_type": "execute_result"
    }
   ],
   "source": [
    "#Create a key-value RDD where key = community_id, value = nodes and edges\n",
    "community_kv_rdd = community_rdd.map(lambda community: (community['community_id'], {\n",
    "    'nodes': community['nodes'], \n",
    "    'edges': community['edges']\n",
    "}))\n",
    "\n",
    "type(community_kv_rdd)"
   ]
  },
  {
   "cell_type": "code",
   "execution_count": 8,
   "metadata": {},
   "outputs": [
    {
     "name": "stdout",
     "output_type": "stream",
     "text": [
      "[(1, {'nodes': [371, 419, 204, 651, 134, 14, 447, 894, 72, 381, 173, 862, 812, 181, 621, 169, 628, 81, 281, 367, 773, 498, 486, 670, 774, 359, 108, 952, 513, 975, 313, 327, 73, 619, 178, 714, 615, 177, 458, 107, 345, 333, 162, 346, 742, 593, 18, 247, 518], 'edges': [{'node1': 371, 'node2': 419, 'begintijd': 20240211092539, 'eindtijd': 20240211105110}, {'node1': 371, 'node2': 812, 'begintijd': 20240412020025, 'eindtijd': 20240412053609}, {'node1': 371, 'node2': 670, 'begintijd': 20240606074446, 'eindtijd': 20240606110610}, {'node1': 419, 'node2': 518, 'begintijd': 20240302155007, 'eindtijd': 20240302220343}, {'node1': 204, 'node2': 651, 'begintijd': 20241206033837, 'eindtijd': 20241206042803}, {'node1': 134, 'node2': 486, 'begintijd': 20240527093355, 'eindtijd': 20240527100706}, {'node1': 134, 'node2': 345, 'begintijd': 20241112061756, 'eindtijd': 20241112122028}, {'node1': 14, 'node2': 419, 'begintijd': 20241124003819, 'eindtijd': 20241124054926}, {'node1': 14, 'node2': 621, 'begintijd': 20240929163929, 'eindtijd': 20240929223816}, {'node1': 447, 'node2': 894, 'begintijd': 20240425043006, 'eindtijd': 20240425062919}, {'node1': 72, 'node2': 381, 'begintijd': 20240614121045, 'eindtijd': 20240614191221}, {'node1': 72, 'node2': 593, 'begintijd': 20240527122521, 'eindtijd': 20240527183618}, {'node1': 381, 'node2': 670, 'begintijd': 20240512211223, 'eindtijd': 20240513012106}, {'node1': 173, 'node2': 651, 'begintijd': 20240523023746, 'eindtijd': 20240523050320}, {'node1': 173, 'node2': 862, 'begintijd': 20241225144832, 'eindtijd': 20241225152017}, {'node1': 173, 'node2': 773, 'begintijd': 20240111145517, 'eindtijd': 20240111202305}, {'node1': 181, 'node2': 651, 'begintijd': 20240202110738, 'eindtijd': 20240202122602}, {'node1': 181, 'node2': 621, 'begintijd': 20240406163347, 'eindtijd': 20240406192019}, {'node1': 169, 'node2': 204, 'begintijd': 20240515152926, 'eindtijd': 20240515191919}, {'node1': 169, 'node2': 628, 'begintijd': 20240503144454, 'eindtijd': 20240503194008}, {'node1': 81, 'node2': 281, 'begintijd': 20240428111549, 'eindtijd': 20240428123457}, {'node1': 81, 'node2': 107, 'begintijd': 20240309163704, 'eindtijd': 20240309191129}, {'node1': 367, 'node2': 773, 'begintijd': 20240816032433, 'eindtijd': 20240816043054}, {'node1': 367, 'node2': 619, 'begintijd': 20240218163746, 'eindtijd': 20240218183745}, {'node1': 498, 'node2': 651, 'begintijd': 20240826125153, 'eindtijd': 20240826131115}, {'node1': 498, 'node2': 619, 'begintijd': 20240323135412, 'eindtijd': 20240323201844}, {'node1': 498, 'node2': 615, 'begintijd': 20240622150009, 'eindtijd': 20240622165252}, {'node1': 486, 'node2': 513, 'begintijd': 20240516175158, 'eindtijd': 20240516210739}, {'node1': 774, 'node2': 894, 'begintijd': 20240622115250, 'eindtijd': 20240622181316}, {'node1': 359, 'node2': 773, 'begintijd': 20240313140318, 'eindtijd': 20240313203249}, {'node1': 359, 'node2': 975, 'begintijd': 20240328015407, 'eindtijd': 20240328075010}, {'node1': 108, 'node2': 281, 'begintijd': 20240417212952, 'eindtijd': 20240418050325}, {'node1': 108, 'node2': 774, 'begintijd': 20240714211802, 'eindtijd': 20240715041739}, {'node1': 108, 'node2': 952, 'begintijd': 20241229015119, 'eindtijd': 20241229080344}, {'node1': 313, 'node2': 327, 'begintijd': 20241106135010, 'eindtijd': 20241106142342}, {'node1': 327, 'node2': 486, 'begintijd': 20241104155900, 'eindtijd': 20241104173306}, {'node1': 327, 'node2': 714, 'begintijd': 20240610162536, 'eindtijd': 20240610200933}, {'node1': 73, 'node2': 134, 'begintijd': 20240917195634, 'eindtijd': 20240918003446}, {'node1': 73, 'node2': 619, 'begintijd': 20241109235335, 'eindtijd': 20241110010151}, {'node1': 73, 'node2': 742, 'begintijd': 20240404211136, 'eindtijd': 20240405050648}, {'node1': 178, 'node2': 204, 'begintijd': 20240616141104, 'eindtijd': 20240616220107}, {'node1': 177, 'node2': 419, 'begintijd': 20241117010619, 'eindtijd': 20241117064714}, {'node1': 177, 'node2': 458, 'begintijd': 20240802132358, 'eindtijd': 20240802170931}, {'node1': 458, 'node2': 513, 'begintijd': 20240131163701, 'eindtijd': 20240131231250}, {'node1': 107, 'node2': 486, 'begintijd': 20240110134850, 'eindtijd': 20240110212436}, {'node1': 107, 'node2': 162, 'begintijd': 20240104022033, 'eindtijd': 20240104091644}, {'node1': 333, 'node2': 615, 'begintijd': 20240902001016, 'eindtijd': 20240902063132}, {'node1': 346, 'node2': 447, 'begintijd': 20240408065946, 'eindtijd': 20240408130338}, {'node1': 18, 'node2': 458, 'begintijd': 20240506014740, 'eindtijd': 20240506043114}, {'node1': 247, 'node2': 367, 'begintijd': 20240820185729, 'eindtijd': 20240820221844}]}), (2, {'nodes': [51, 958, 567, 983, 404, 838, 678, 339, 826, 538, 682, 357, 829, 82, 438, 950, 664, 672, 63, 635, 370, 104, 60, 185, 268, 656, 929, 58, 683, 679, 836, 172, 314, 988, 12, 348, 645, 475], 'edges': [{'node1': 51, 'node2': 958, 'begintijd': 20240728154126, 'eindtijd': 20240728200440}, {'node1': 51, 'node2': 983, 'begintijd': 20240604162420, 'eindtijd': 20240604190715}, {'node1': 51, 'node2': 678, 'begintijd': 20240522051950, 'eindtijd': 20240522081012}, {'node1': 567, 'node2': 983, 'begintijd': 20240805110706, 'eindtijd': 20240805121332}, {'node1': 404, 'node2': 838, 'begintijd': 20240923224323, 'eindtijd': 20240924041620}, {'node1': 404, 'node2': 826, 'begintijd': 20241206032416, 'eindtijd': 20241206033040}, {'node1': 339, 'node2': 826, 'begintijd': 20240208214314, 'eindtijd': 20240208214555}, {'node1': 339, 'node2': 829, 'begintijd': 20240216040309, 'eindtijd': 20240216063939}, {'node1': 538, 'node2': 682, 'begintijd': 20240413061504, 'eindtijd': 20240413113552}, {'node1': 682, 'node2': 950, 'begintijd': 20240722001633, 'eindtijd': 20240722035514}, {'node1': 357, 'node2': 682, 'begintijd': 20240422061400, 'eindtijd': 20240422112345}, {'node1': 357, 'node2': 829, 'begintijd': 20240207233143, 'eindtijd': 20240208051538}, {'node1': 82, 'node2': 438, 'begintijd': 20240115030801, 'eindtijd': 20240115063759}, {'node1': 82, 'node2': 929, 'begintijd': 20240518224912, 'eindtijd': 20240519031115}, {'node1': 664, 'node2': 672, 'begintijd': 20241027040139, 'eindtijd': 20241027104411}, {'node1': 63, 'node2': 567, 'begintijd': 20241122124751, 'eindtijd': 20241122162015}, {'node1': 63, 'node2': 635, 'begintijd': 20240621020737, 'eindtijd': 20240621084111}, {'node1': 63, 'node2': 370, 'begintijd': 20240804170720, 'eindtijd': 20240804235422}, {'node1': 635, 'node2': 682, 'begintijd': 20240501232248, 'eindtijd': 20240502004637}, {'node1': 370, 'node2': 645, 'begintijd': 20240915061218, 'eindtijd': 20240915082720}, {'node1': 104, 'node2': 672, 'begintijd': 20241130224612, 'eindtijd': 20241201022805}, {'node1': 60, 'node2': 185, 'begintijd': 20241124021644, 'eindtijd': 20241124083310}, {'node1': 185, 'node2': 829, 'begintijd': 20240505073623, 'eindtijd': 20240505113153}, {'node1': 268, 'node2': 950, 'begintijd': 20240607184737, 'eindtijd': 20240607221854}, {'node1': 268, 'node2': 672, 'begintijd': 20241003035227, 'eindtijd': 20241003094914}, {'node1': 268, 'node2': 929, 'begintijd': 20240524060958, 'eindtijd': 20240524065143}, {'node1': 929, 'node2': 988, 'begintijd': 20240822013443, 'eindtijd': 20240822093238}, {'node1': 58, 'node2': 838, 'begintijd': 20241214025432, 'eindtijd': 20241214065707}, {'node1': 58, 'node2': 678, 'begintijd': 20240404202241, 'eindtijd': 20240404223854}, {'node1': 58, 'node2': 348, 'begintijd': 20240511034555, 'eindtijd': 20240511105708}, {'node1': 683, 'node2': 929, 'begintijd': 20240711093316, 'eindtijd': 20240711153958}, {'node1': 679, 'node2': 836, 'begintijd': 20240512085334, 'eindtijd': 20240512142215}, {'node1': 836, 'node2': 950, 'begintijd': 20240930114606, 'eindtijd': 20240930121912}, {'node1': 172, 'node2': 838, 'begintijd': 20240227233235, 'eindtijd': 20240227235344}, {'node1': 172, 'node2': 656, 'begintijd': 20240914200531, 'eindtijd': 20240915032900}, {'node1': 314, 'node2': 404, 'begintijd': 20241021110911, 'eindtijd': 20241021180434}, {'node1': 314, 'node2': 475, 'begintijd': 20240625035314, 'eindtijd': 20240625062854}, {'node1': 12, 'node2': 838, 'begintijd': 20240302041115, 'eindtijd': 20240302062831}]}), (3, {'nodes': [411, 451, 143, 753, 80, 809, 729, 843, 338, 830, 846, 434, 415, 919, 844, 721, 598, 680, 917, 121, 693, 901, 948, 179, 503, 882, 310], 'edges': [{'node1': 411, 'node2': 753, 'begintijd': 20240801150138, 'eindtijd': 20240801184544}, {'node1': 411, 'node2': 844, 'begintijd': 20240524133133, 'eindtijd': 20240524194721}, {'node1': 411, 'node2': 882, 'begintijd': 20240407180515, 'eindtijd': 20240407222845}, {'node1': 451, 'node2': 753, 'begintijd': 20241024043029, 'eindtijd': 20241024121609}, {'node1': 451, 'node2': 917, 'begintijd': 20240530034725, 'eindtijd': 20240530065334}, {'node1': 143, 'node2': 843, 'begintijd': 20241010052536, 'eindtijd': 20241010063528}, {'node1': 143, 'node2': 434, 'begintijd': 20240410191747, 'eindtijd': 20240411014201}, {'node1': 753, 'node2': 901, 'begintijd': 20241220003110, 'eindtijd': 20241220020748}, {'node1': 80, 'node2': 809, 'begintijd': 20240410014916, 'eindtijd': 20240410071715}, {'node1': 80, 'node2': 721, 'begintijd': 20241125150151, 'eindtijd': 20241125162459}, {'node1': 729, 'node2': 843, 'begintijd': 20241219194744, 'eindtijd': 20241219221258}, {'node1': 338, 'node2': 729, 'begintijd': 20240502115732, 'eindtijd': 20240502185613}, {'node1': 338, 'node2': 721, 'begintijd': 20240310000521, 'eindtijd': 20240310064914}, {'node1': 338, 'node2': 693, 'begintijd': 20240820035102, 'eindtijd': 20240820111329}, {'node1': 830, 'node2': 846, 'begintijd': 20240420065406, 'eindtijd': 20240420140239}, {'node1': 434, 'node2': 843, 'begintijd': 20241118122603, 'eindtijd': 20241118151514}, {'node1': 434, 'node2': 917, 'begintijd': 20240526050019, 'eindtijd': 20240526124623}, {'node1': 415, 'node2': 919, 'begintijd': 20240823111245, 'eindtijd': 20240823160137}, {'node1': 415, 'node2': 882, 'begintijd': 20240422063406, 'eindtijd': 20240422085635}, {'node1': 844, 'node2': 846, 'begintijd': 20240922165300, 'eindtijd': 20240923005109}, {'node1': 598, 'node2': 830, 'begintijd': 20240518115020, 'eindtijd': 20240518140630}, {'node1': 598, 'node2': 680, 'begintijd': 20241229171156, 'eindtijd': 20241229210410}, {'node1': 121, 'node2': 919, 'begintijd': 20240827021813, 'eindtijd': 20240827054002}, {'node1': 901, 'node2': 948, 'begintijd': 20240212113612, 'eindtijd': 20240212184645}, {'node1': 179, 'node2': 503, 'begintijd': 20241216094120, 'eindtijd': 20241216134902}, {'node1': 503, 'node2': 809, 'begintijd': 20240810094411, 'eindtijd': 20240810144538}, {'node1': 310, 'node2': 721, 'begintijd': 20240825131459, 'eindtijd': 20240825203646}]}), (4, {'nodes': [87, 337, 250, 298, 299, 148, 785, 561, 291, 205, 460, 637, 586, 490, 668, 472, 941, 766, 211, 114, 629, 631, 336, 385, 891, 308, 271, 978, 176, 403, 816, 294, 643, 632, 92, 815, 296, 249], 'edges': [{'node1': 87, 'node2': 337, 'begintijd': 20241123065459, 'eindtijd': 20241123092244}, {'node1': 87, 'node2': 291, 'begintijd': 20240514161304, 'eindtijd': 20240514202050}, {'node1': 250, 'node2': 298, 'begintijd': 20240302183719, 'eindtijd': 20240303014033}, {'node1': 250, 'node2': 490, 'begintijd': 20240603070442, 'eindtijd': 20240603130928}, {'node1': 298, 'node2': 561, 'begintijd': 20240728055427, 'eindtijd': 20240728124812}, {'node1': 299, 'node2': 561, 'begintijd': 20240721171513, 'eindtijd': 20240721204024}, {'node1': 299, 'node2': 637, 'begintijd': 20240919233218, 'eindtijd': 20240920030807}, {'node1': 299, 'node2': 631, 'begintijd': 20241121000020, 'eindtijd': 20241121044838}, {'node1': 148, 'node2': 299, 'begintijd': 20240217090355, 'eindtijd': 20240217164644}, {'node1': 148, 'node2': 785, 'begintijd': 20240728133314, 'eindtijd': 20240728194619}, {'node1': 148, 'node2': 643, 'begintijd': 20240120124920, 'eindtijd': 20240120192859}, {'node1': 561, 'node2': 978, 'begintijd': 20240103162728, 'eindtijd': 20240103195251}, {'node1': 291, 'node2': 336, 'begintijd': 20240124163144, 'eindtijd': 20240124174648}, {'node1': 205, 'node2': 308, 'begintijd': 20241107020634, 'eindtijd': 20241107054621}, {'node1': 460, 'node2': 637, 'begintijd': 20240830160428, 'eindtijd': 20240830224841}, {'node1': 586, 'node2': 668, 'begintijd': 20240314023108, 'eindtijd': 20240314052743}, {'node1': 668, 'node2': 766, 'begintijd': 20240519112800, 'eindtijd': 20240519160836}, {'node1': 472, 'node2': 941, 'begintijd': 20240714095155, 'eindtijd': 20240714161221}, {'node1': 211, 'node2': 291, 'begintijd': 20240331120505, 'eindtijd': 20240331144503}, {'node1': 114, 'node2': 205, 'begintijd': 20240217084415, 'eindtijd': 20240217105316}, {'node1': 114, 'node2': 629, 'begintijd': 20240508112959, 'eindtijd': 20240508185107}, {'node1': 629, 'node2': 637, 'begintijd': 20240919031420, 'eindtijd': 20240919090619}, {'node1': 385, 'node2': 785, 'begintijd': 20240801163547, 'eindtijd': 20240801232325}, {'node1': 385, 'node2': 891, 'begintijd': 20241030025741, 'eindtijd': 20241030085722}, {'node1': 385, 'node2': 632, 'begintijd': 20240109184102, 'eindtijd': 20240109203545}, {'node1': 308, 'node2': 629, 'begintijd': 20240129112230, 'eindtijd': 20240129124003}, {'node1': 271, 'node2': 766, 'begintijd': 20240929151555, 'eindtijd': 20240929205356}, {'node1': 176, 'node2': 785, 'begintijd': 20240415182208, 'eindtijd': 20240415230326}, {'node1': 176, 'node2': 291, 'begintijd': 20241012054610, 'eindtijd': 20241012061148}, {'node1': 176, 'node2': 586, 'begintijd': 20241019215857, 'eindtijd': 20241019221229}, {'node1': 403, 'node2': 586, 'begintijd': 20240801111337, 'eindtijd': 20240801185317}, {'node1': 403, 'node2': 472, 'begintijd': 20240818124220, 'eindtijd': 20240818161832}, {'node1': 403, 'node2': 816, 'begintijd': 20240919222523, 'eindtijd': 20240920013547}, {'node1': 294, 'node2': 629, 'begintijd': 20240629022857, 'eindtijd': 20240629081456}, {'node1': 294, 'node2': 815, 'begintijd': 20240512154047, 'eindtijd': 20240512183311}, {'node1': 92, 'node2': 668, 'begintijd': 20240810231838, 'eindtijd': 20240811012627}, {'node1': 92, 'node2': 308, 'begintijd': 20240602123031, 'eindtijd': 20240602185257}, {'node1': 92, 'node2': 296, 'begintijd': 20240313035915, 'eindtijd': 20240313112547}, {'node1': 249, 'node2': 337, 'begintijd': 20241106071630, 'eindtijd': 20241106141644}]}), (5, {'nodes': [351, 431, 439, 505, 171, 591, 487, 575, 998, 613, 747, 55, 199, 796, 29, 118, 595, 676, 801, 10, 389, 633, 341, 215, 713, 755, 491, 182, 715, 762, 818, 853, 237, 111], 'edges': [{'node1': 351, 'node2': 431, 'begintijd': 20240501000618, 'eindtijd': 20240501071624}, {'node1': 431, 'node2': 595, 'begintijd': 20240612073417, 'eindtijd': 20240612095948}, {'node1': 431, 'node2': 755, 'begintijd': 20241015172508, 'eindtijd': 20241015224832}, {'node1': 439, 'node2': 505, 'begintijd': 20241016003003, 'eindtijd': 20241016051438}, {'node1': 171, 'node2': 591, 'begintijd': 20241123102843, 'eindtijd': 20241123112947}, {'node1': 171, 'node2': 796, 'begintijd': 20241119231802, 'eindtijd': 20241120032956}, {'node1': 487, 'node2': 575, 'begintijd': 20241115211956, 'eindtijd': 20241116041141}, {'node1': 487, 'node2': 676, 'begintijd': 20240801123227, 'eindtijd': 20240801140337}, {'node1': 575, 'node2': 998, 'begintijd': 20241025005922, 'eindtijd': 20241025082720}, {'node1': 613, 'node2': 747, 'begintijd': 20240728211952, 'eindtijd': 20240729040912}, {'node1': 747, 'node2': 755, 'begintijd': 20241109165224, 'eindtijd': 20241109174531}, {'node1': 55, 'node2': 199, 'begintijd': 20240213181443, 'eindtijd': 20240214013046}, {'node1': 55, 'node2': 118, 'begintijd': 20241213143258, 'eindtijd': 20241213145327}, {'node1': 199, 'node2': 853, 'begintijd': 20240425011301, 'eindtijd': 20240425031815}, {'node1': 29, 'node2': 575, 'begintijd': 20240911105922, 'eindtijd': 20240911164328}, {'node1': 29, 'node2': 633, 'begintijd': 20240220033248, 'eindtijd': 20240220064509}, {'node1': 29, 'node2': 715, 'begintijd': 20240915123247, 'eindtijd': 20240915182613}, {'node1': 118, 'node2': 595, 'begintijd': 20240823125824, 'eindtijd': 20240823180324}, {'node1': 595, 'node2': 762, 'begintijd': 20240205141845, 'eindtijd': 20240205143607}, {'node1': 595, 'node2': 818, 'begintijd': 20241129142352, 'eindtijd': 20241129214424}, {'node1': 676, 'node2': 801, 'begintijd': 20240926145348, 'eindtijd': 20240926152516}, {'node1': 10, 'node2': 755, 'begintijd': 20240929171551, 'eindtijd': 20240929185115}, {'node1': 389, 'node2': 595, 'begintijd': 20240209030216, 'eindtijd': 20240209060059}, {'node1': 341, 'node2': 998, 'begintijd': 20240123052310, 'eindtijd': 20240123121555}, {'node1': 341, 'node2': 796, 'begintijd': 20240714130959, 'eindtijd': 20240714151348}, {'node1': 215, 'node2': 713, 'begintijd': 20240322042946, 'eindtijd': 20240322100501}, {'node1': 713, 'node2': 715, 'begintijd': 20240517085914, 'eindtijd': 20240517164134}, {'node1': 713, 'node2': 818, 'begintijd': 20240421165911, 'eindtijd': 20240421231837}, {'node1': 491, 'node2': 713, 'begintijd': 20240902081217, 'eindtijd': 20240902095249}, {'node1': 182, 'node2': 351, 'begintijd': 20240520120602, 'eindtijd': 20240520161849}, {'node1': 237, 'node2': 439, 'begintijd': 20240115221724, 'eindtijd': 20240116014633}, {'node1': 237, 'node2': 747, 'begintijd': 20240108224757, 'eindtijd': 20240109044846}, {'node1': 111, 'node2': 505, 'begintijd': 20241015054225, 'eindtijd': 20241015115526}]})]\n"
     ]
    },
    {
     "name": "stderr",
     "output_type": "stream",
     "text": [
      "                                                                                \r"
     ]
    }
   ],
   "source": [
    "print(community_kv_rdd.take(5))"
   ]
  },
  {
   "cell_type": "code",
   "execution_count": 10,
   "metadata": {},
   "outputs": [],
   "source": [
    "community_kv_rdd.saveAsTextFile(\"./communities_rdd.txt\")"
   ]
  }
 ],
 "metadata": {
  "kernelspec": {
   "display_name": "Python (myenv)",
   "language": "python",
   "name": "myenv"
  },
  "language_info": {
   "codemirror_mode": {
    "name": "ipython",
    "version": 3
   },
   "file_extension": ".py",
   "mimetype": "text/x-python",
   "name": "python",
   "nbconvert_exporter": "python",
   "pygments_lexer": "ipython3",
   "version": "3.11.5"
  },
  "orig_nbformat": 4
 },
 "nbformat": 4,
 "nbformat_minor": 2
}
