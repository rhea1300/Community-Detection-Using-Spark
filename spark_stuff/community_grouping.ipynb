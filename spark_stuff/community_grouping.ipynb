{
 "cells": [
  {
   "cell_type": "markdown",
   "metadata": {},
   "source": [
    "## spark setup & libraries"
   ]
  },
  {
   "cell_type": "code",
   "execution_count": 49,
   "metadata": {},
   "outputs": [],
   "source": [
    "# spark setup\n",
    "import pyspark\n",
    "from pyspark import SparkContext, SparkConf\n",
    "from pyspark.sql import SparkSession, Row\n",
    "from pyspark.sql import functions as F\n",
    "from pyspark.ml.feature import MinHashLSH, VectorAssembler\n",
    "from pyspark.ml.linalg import Vectors\n",
    "from pyspark.sql.functions import col, when, explode, lit, array_contains\n",
    "# from itertools import groupby\n",
    "from pyspark.sql import Window\n",
    "from pyspark.sql.functions import row_number, ceil, col, udf\n",
    "import math\n",
    "\n",
    "# libraries\n",
    "import pandas as pd\n",
    "import numpy as np\n",
    "import matplotlib.pyplot as plt\n",
    "import json\n",
    "\n",
    "# show all rows with df.head\n",
    "pd.options.display.max_columns = None\n",
    "# remove warnings\n",
    "import warnings\n",
    "warnings.filterwarnings('ignore')"
   ]
  },
  {
   "cell_type": "markdown",
   "metadata": {},
   "source": [
    "## create spark session + load data"
   ]
  },
  {
   "cell_type": "code",
   "execution_count": 3,
   "metadata": {},
   "outputs": [
    {
     "name": "stderr",
     "output_type": "stream",
     "text": [
      "your 131072x1 screen size is bogus. expect trouble\n",
      "Warning: Ignoring non-Spark config property: spak.driver.maxResultSize\n",
      "24/11/07 09:55:59 WARN Utils: Your hostname, MadioLaptop resolves to a loopback address: 127.0.1.1; using 10.255.255.254 instead (on interface lo)\n",
      "24/11/07 09:55:59 WARN Utils: Set SPARK_LOCAL_IP if you need to bind to another address\n",
      "Setting default log level to \"WARN\".\n",
      "To adjust logging level use sc.setLogLevel(newLevel). For SparkR, use setLogLevel(newLevel).\n",
      "24/11/07 09:56:00 WARN NativeCodeLoader: Unable to load native-hadoop library for your platform... using builtin-java classes where applicable\n"
     ]
    }
   ],
   "source": [
    "spark = SparkSession.builder \\\n",
    "  .appName(\"DIS_project_5\") \\\n",
    "  .master(\"local[*]\") \\\n",
    "  .config(\"spark.driver.memory\", \"10G\") \\\n",
    "  .config(\"spa\\rk.driver.maxResultSize\", \"40g\") \\\n",
    "  .config(\"spark.sql.autoBroadcastJoinThreshold\", \"-1\") \\\n",
    "  .getOrCreate()\n",
    "spark\n",
    "sc = spark.sparkContext"
   ]
  },
  {
   "cell_type": "code",
   "execution_count": 4,
   "metadata": {},
   "outputs": [
    {
     "name": "stderr",
     "output_type": "stream",
     "text": [
      "                                                                                \r"
     ]
    },
    {
     "name": "stdout",
     "output_type": "stream",
     "text": [
      "[{'community_id': 1, 'nodes': [371, 340, 378, 667, 974, 368, 627, 64, 168, 257, 925, 767, 549, 890, 899, 226, 45, 71, 72, 381, 707, 973, 812, 839, 96, 433, 670, 468, 466, 876, 402, 646, 593, 366, 612], 'edges': [{'node1': 371, 'node2': 549, 'begintijd': 20240318013535, 'eindtijd': 20240318030219}, {'node1': 371, 'node2': 812, 'begintijd': 20240412020025, 'eindtijd': 20240412053609}, {'node1': 371, 'node2': 670, 'begintijd': 20240606074446, 'eindtijd': 20240606110610}, {'node1': 340, 'node2': 378, 'begintijd': 20240918161950, 'eindtijd': 20240918172041}, {'node1': 378, 'node2': 466, 'begintijd': 20240918071254, 'eindtijd': 20240918140257}, {'node1': 667, 'node2': 767, 'begintijd': 20241101133614, 'eindtijd': 20241101175233}, {'node1': 368, 'node2': 627, 'begintijd': 20240112043512, 'eindtijd': 20240112122716}, {'node1': 368, 'node2': 767, 'begintijd': 20240205225900, 'eindtijd': 20240206062846}, {'node1': 64, 'node2': 627, 'begintijd': 20240407064043, 'eindtijd': 20240407074414}, {'node1': 64, 'node2': 168, 'begintijd': 20240928095457, 'eindtijd': 20240928114604}, {'node1': 64, 'node2': 226, 'begintijd': 20241022113437, 'eindtijd': 20241022183018}, {'node1': 257, 'node2': 925, 'begintijd': 20241007111457, 'eindtijd': 20241007182545}, {'node1': 257, 'node2': 707, 'begintijd': 20240626100106, 'eindtijd': 20240626174344}, {'node1': 767, 'node2': 925, 'begintijd': 20240308140308, 'eindtijd': 20240308194017}, {'node1': 549, 'node2': 627, 'begintijd': 20240408074017, 'eindtijd': 20240408100436}, {'node1': 890, 'node2': 899, 'begintijd': 20240629052402, 'eindtijd': 20240629055550}, {'node1': 899, 'node2': 925, 'begintijd': 20240723004250, 'eindtijd': 20240723024304}, {'node1': 226, 'node2': 378, 'begintijd': 20240904135727, 'eindtijd': 20240904163115}, {'node1': 45, 'node2': 71, 'begintijd': 20240603035909, 'eindtijd': 20240603102716}, {'node1': 45, 'node2': 433, 'begintijd': 20241020095605, 'eindtijd': 20241020154040}, {'node1': 71, 'node2': 839, 'begintijd': 20241125055722, 'eindtijd': 20241125131254}, {'node1': 72, 'node2': 381, 'begintijd': 20240614121045, 'eindtijd': 20240614191221}, {'node1': 72, 'node2': 593, 'begintijd': 20240527122521, 'eindtijd': 20240527183618}, {'node1': 381, 'node2': 670, 'begintijd': 20240512211223, 'eindtijd': 20240513012106}, {'node1': 707, 'node2': 974, 'begintijd': 20240208004134, 'eindtijd': 20240208041434}, {'node1': 707, 'node2': 973, 'begintijd': 20240227072425, 'eindtijd': 20240227110628}, {'node1': 839, 'node2': 899, 'begintijd': 20240905105118, 'eindtijd': 20240905132217}, {'node1': 96, 'node2': 707, 'begintijd': 20240719120422, 'eindtijd': 20240719125159}, {'node1': 96, 'node2': 612, 'begintijd': 20240903132343, 'eindtijd': 20240903144515}, {'node1': 468, 'node2': 974, 'begintijd': 20240512085929, 'eindtijd': 20240512121855}, {'node1': 466, 'node2': 876, 'begintijd': 20240120051319, 'eindtijd': 20240120130536}, {'node1': 876, 'node2': 974, 'begintijd': 20240416103045, 'eindtijd': 20240416145019}, {'node1': 402, 'node2': 667, 'begintijd': 20241006151640, 'eindtijd': 20241006205427}, {'node1': 402, 'node2': 646, 'begintijd': 20240820041732, 'eindtijd': 20240820073334}, {'node1': 366, 'node2': 925, 'begintijd': 20240704002340, 'eindtijd': 20240704024026}]}, {'community_id': 2, 'nodes': [419, 134, 779, 447, 894, 235, 81, 281, 486, 442, 774, 108, 952, 513, 177, 458, 107, 15, 102, 345, 162, 346, 636, 756, 18, 518], 'edges': [{'node1': 419, 'node2': 518, 'begintijd': 20240302155007, 'eindtijd': 20240302220343}, {'node1': 134, 'node2': 779, 'begintijd': 20240523214105, 'eindtijd': 20240524022319}, {'node1': 134, 'node2': 486, 'begintijd': 20240527093355, 'eindtijd': 20240527100706}, {'node1': 134, 'node2': 345, 'begintijd': 20241112061756, 'eindtijd': 20241112122028}, {'node1': 447, 'node2': 894, 'begintijd': 20240425043006, 'eindtijd': 20240425062919}, {'node1': 235, 'node2': 779, 'begintijd': 20240204223616, 'eindtijd': 20240205050326}, {'node1': 81, 'node2': 281, 'begintijd': 20240428111549, 'eindtijd': 20240428123457}, {'node1': 81, 'node2': 107, 'begintijd': 20240309163704, 'eindtijd': 20240309191129}, {'node1': 486, 'node2': 513, 'begintijd': 20240516175158, 'eindtijd': 20240516210739}, {'node1': 442, 'node2': 779, 'begintijd': 20241208033145, 'eindtijd': 20241208112349}, {'node1': 442, 'node2': 458, 'begintijd': 20240412080400, 'eindtijd': 20240412134549}, {'node1': 774, 'node2': 894, 'begintijd': 20240622115250, 'eindtijd': 20240622181316}, {'node1': 108, 'node2': 281, 'begintijd': 20240417212952, 'eindtijd': 20240418050325}, {'node1': 108, 'node2': 774, 'begintijd': 20240714211802, 'eindtijd': 20240715041739}, {'node1': 108, 'node2': 952, 'begintijd': 20241229015119, 'eindtijd': 20241229080344}, {'node1': 177, 'node2': 419, 'begintijd': 20241117010619, 'eindtijd': 20241117064714}, {'node1': 177, 'node2': 458, 'begintijd': 20240802132358, 'eindtijd': 20240802170931}, {'node1': 458, 'node2': 513, 'begintijd': 20240131163701, 'eindtijd': 20240131231250}, {'node1': 107, 'node2': 486, 'begintijd': 20240110134850, 'eindtijd': 20240110212436}, {'node1': 107, 'node2': 162, 'begintijd': 20240104022033, 'eindtijd': 20240104091644}, {'node1': 15, 'node2': 102, 'begintijd': 20240709200626, 'eindtijd': 20240709211531}, {'node1': 102, 'node2': 442, 'begintijd': 20240924002130, 'eindtijd': 20240924035050}, {'node1': 346, 'node2': 447, 'begintijd': 20240408065946, 'eindtijd': 20240408130338}, {'node1': 636, 'node2': 756, 'begintijd': 20240519051022, 'eindtijd': 20240519064344}, {'node1': 756, 'node2': 779, 'begintijd': 20240504234719, 'eindtijd': 20240505040001}, {'node1': 18, 'node2': 458, 'begintijd': 20240506014740, 'eindtijd': 20240506043114}]}, {'community_id': 3, 'nodes': [51, 411, 958, 983, 678, 830, 846, 415, 919, 844, 517, 652, 437, 598, 680, 313, 327, 727, 737, 714, 194, 121, 462, 478, 58, 288, 882, 400, 348], 'edges': [{'node1': 51, 'node2': 411, 'begintijd': 20240828001254, 'eindtijd': 20240828040808}, {'node1': 51, 'node2': 958, 'begintijd': 20240728154126, 'eindtijd': 20240728200440}, {'node1': 51, 'node2': 983, 'begintijd': 20240604162420, 'eindtijd': 20240604190715}, {'node1': 51, 'node2': 678, 'begintijd': 20240522051950, 'eindtijd': 20240522081012}, {'node1': 411, 'node2': 844, 'begintijd': 20240524133133, 'eindtijd': 20240524194721}, {'node1': 411, 'node2': 882, 'begintijd': 20240407180515, 'eindtijd': 20240407222845}, {'node1': 830, 'node2': 846, 'begintijd': 20240420065406, 'eindtijd': 20240420140239}, {'node1': 415, 'node2': 919, 'begintijd': 20240823111245, 'eindtijd': 20240823160137}, {'node1': 415, 'node2': 882, 'begintijd': 20240422063406, 'eindtijd': 20240422085635}, {'node1': 844, 'node2': 846, 'begintijd': 20240922165300, 'eindtijd': 20240923005109}, {'node1': 517, 'node2': 983, 'begintijd': 20241205014213, 'eindtijd': 20241205085910}, {'node1': 517, 'node2': 652, 'begintijd': 20240628001411, 'eindtijd': 20240628071109}, {'node1': 652, 'node2': 737, 'begintijd': 20240615114022, 'eindtijd': 20240615152120}, {'node1': 437, 'node2': 737, 'begintijd': 20240814072942, 'eindtijd': 20240814104153}, {'node1': 598, 'node2': 830, 'begintijd': 20240518115020, 'eindtijd': 20240518140630}, {'node1': 598, 'node2': 680, 'begintijd': 20241229171156, 'eindtijd': 20241229210410}, {'node1': 313, 'node2': 919, 'begintijd': 20240825160746, 'eindtijd': 20240825171501}, {'node1': 313, 'node2': 327, 'begintijd': 20241106135010, 'eindtijd': 20241106142342}, {'node1': 327, 'node2': 714, 'begintijd': 20240610162536, 'eindtijd': 20240610200933}, {'node1': 727, 'node2': 737, 'begintijd': 20241018125537, 'eindtijd': 20241018172220}, {'node1': 194, 'node2': 652, 'begintijd': 20240829025700, 'eindtijd': 20240829073005}, {'node1': 121, 'node2': 919, 'begintijd': 20240827021813, 'eindtijd': 20240827054002}, {'node1': 462, 'node2': 517, 'begintijd': 20241023204545, 'eindtijd': 20241024014702}, {'node1': 462, 'node2': 478, 'begintijd': 20241019170126, 'eindtijd': 20241019215654}, {'node1': 58, 'node2': 678, 'begintijd': 20240404202241, 'eindtijd': 20240404223854}, {'node1': 58, 'node2': 348, 'begintijd': 20240511034555, 'eindtijd': 20240511105708}, {'node1': 288, 'node2': 727, 'begintijd': 20240419082434, 'eindtijd': 20240419145809}, {'node1': 288, 'node2': 400, 'begintijd': 20241216115644, 'eindtijd': 20241216125531}]}]\n"
     ]
    },
    {
     "name": "stderr",
     "output_type": "stream",
     "text": [
      "                                                                                \r"
     ]
    },
    {
     "name": "stdout",
     "output_type": "stream",
     "text": [
      "53\n",
      "<class 'pyspark.rdd.RDD'>\n"
     ]
    }
   ],
   "source": [
    "json_file_path = \"../Community Detection/10K.json\"\n",
    "with open(json_file_path, 'r') as f:\n",
    "    community_data = json.load(f)\n",
    "\n",
    "community_rdd = sc.parallelize(community_data)\n",
    "print(community_rdd.take(3))\n",
    "print(community_rdd.count())\n",
    "print(type(community_rdd))"
   ]
  },
  {
   "cell_type": "markdown",
   "metadata": {},
   "source": [
    "## group communities"
   ]
  },
  {
   "cell_type": "code",
   "execution_count": 13,
   "metadata": {},
   "outputs": [
    {
     "name": "stderr",
     "output_type": "stream",
     "text": [
      "                                                                                \r"
     ]
    },
    {
     "name": "stdout",
     "output_type": "stream",
     "text": [
      "+------------+--------------------+--------------------+\n",
      "|community_id|               edges|               nodes|\n",
      "+------------+--------------------+--------------------+\n",
      "|           1|[{eindtijd -> 202...|[371, 340, 378, 6...|\n",
      "|           2|[{eindtijd -> 202...|[419, 134, 779, 4...|\n",
      "|           3|[{eindtijd -> 202...|[51, 411, 958, 98...|\n",
      "|           4|[{eindtijd -> 202...|[87, 337, 351, 43...|\n",
      "|           5|[{eindtijd -> 202...|[132, 290, 999, 4...|\n",
      "|           6|[{eindtijd -> 202...|[759, 386, 483, 2...|\n",
      "|           7|[{eindtijd -> 202...|[138, 398, 109, 4...|\n",
      "|           8|[{eindtijd -> 202...|[204, 651, 618, 8...|\n",
      "|           9|[{eindtijd -> 202...|[250, 298, 299, 1...|\n",
      "|          10|[{eindtijd -> 202...|[451, 306, 543, 1...|\n",
      "|          11|[{eindtijd -> 202...|[4, 577, 406, 900...|\n",
      "|          12|[{eindtijd -> 202...|[797, 984, 476, 1...|\n",
      "|          13|[{eindtijd -> 202...|[777, 567, 674, 9...|\n",
      "|          14|[{eindtijd -> 202...|[305, 322, 86, 38...|\n",
      "|          15|[{eindtijd -> 202...|[255, 835, 69, 88...|\n",
      "|          16|[{eindtijd -> 202...|          [623, 936]|\n",
      "|          17|[{eindtijd -> 202...|[497, 622, 576, 5...|\n",
      "|          18|[{eindtijd -> 202...|[424, 677, 432, 9...|\n",
      "|          19|[{eindtijd -> 202...|[163, 599, 481, 5...|\n",
      "|          20|[{eindtijd -> 202...|     [311, 479, 855]|\n",
      "+------------+--------------------+--------------------+\n",
      "only showing top 20 rows\n",
      "\n",
      "+------------+--------------------+--------------------+---------+---------+\n",
      "|community_id|               edges|               nodes|node_size|edge_size|\n",
      "+------------+--------------------+--------------------+---------+---------+\n",
      "|           1|[{eindtijd -> 202...|[371, 340, 378, 6...|       35|       35|\n",
      "|           2|[{eindtijd -> 202...|[419, 134, 779, 4...|       26|       26|\n",
      "|           3|[{eindtijd -> 202...|[51, 411, 958, 98...|       29|       28|\n",
      "|           4|[{eindtijd -> 202...|[87, 337, 351, 43...|       57|       58|\n",
      "|           5|[{eindtijd -> 202...|[132, 290, 999, 4...|       46|       48|\n",
      "|           6|[{eindtijd -> 202...|[759, 386, 483, 2...|       30|       29|\n",
      "|           7|[{eindtijd -> 202...|[138, 398, 109, 4...|       47|       49|\n",
      "|           8|[{eindtijd -> 202...|[204, 651, 618, 8...|       37|       39|\n",
      "|           9|[{eindtijd -> 202...|[250, 298, 299, 1...|       36|       37|\n",
      "|          10|[{eindtijd -> 202...|[451, 306, 543, 1...|       26|       28|\n",
      "|          11|[{eindtijd -> 202...|[4, 577, 406, 900...|       38|       38|\n",
      "|          12|[{eindtijd -> 202...|[797, 984, 476, 1...|       41|       41|\n",
      "|          13|[{eindtijd -> 202...|[777, 567, 674, 9...|       50|       53|\n",
      "|          14|[{eindtijd -> 202...|[305, 322, 86, 38...|       46|       47|\n",
      "|          15|[{eindtijd -> 202...|[255, 835, 69, 88...|       21|       20|\n",
      "|          16|[{eindtijd -> 202...|          [623, 936]|        2|        1|\n",
      "|          17|[{eindtijd -> 202...|[497, 622, 576, 5...|       43|       44|\n",
      "|          18|[{eindtijd -> 202...|[424, 677, 432, 9...|       48|       48|\n",
      "|          19|[{eindtijd -> 202...|[163, 599, 481, 5...|       31|       31|\n",
      "|          20|[{eindtijd -> 202...|     [311, 479, 855]|        3|        2|\n",
      "+------------+--------------------+--------------------+---------+---------+\n",
      "only showing top 20 rows\n",
      "\n",
      "<class 'pyspark.sql.dataframe.DataFrame'>\n",
      "+---------+-----+\n",
      "|node_size|count|\n",
      "+---------+-----+\n",
      "|       26|    3|\n",
      "|       57|    1|\n",
      "|       35|    1|\n",
      "|       29|    1|\n",
      "|       47|    1|\n",
      "|       37|    1|\n",
      "|       30|    1|\n",
      "|       46|    2|\n",
      "|       41|    1|\n",
      "|       38|    1|\n",
      "|       36|    1|\n",
      "|       50|    1|\n",
      "|       21|    2|\n",
      "|        2|   23|\n",
      "|       31|    2|\n",
      "|        3|    5|\n",
      "|       48|    1|\n",
      "|       43|    1|\n",
      "|       13|    1|\n",
      "|        4|    2|\n",
      "+---------+-----+\n",
      "only showing top 20 rows\n",
      "\n",
      "+---------+-----+\n",
      "|edge_size|count|\n",
      "+---------+-----+\n",
      "|       28|    2|\n",
      "|       26|    1|\n",
      "|       35|    1|\n",
      "|       58|    1|\n",
      "|       48|    2|\n",
      "|       39|    1|\n",
      "|       49|    1|\n",
      "|       29|    1|\n",
      "|       41|    1|\n",
      "|       37|    1|\n",
      "|       38|    1|\n",
      "|       53|    1|\n",
      "|       47|    1|\n",
      "|        1|   23|\n",
      "|       20|    2|\n",
      "|       31|    1|\n",
      "|       44|    1|\n",
      "|        2|    5|\n",
      "|       12|    1|\n",
      "|        3|    2|\n",
      "+---------+-----+\n",
      "only showing top 20 rows\n",
      "\n"
     ]
    }
   ],
   "source": [
    "# turn rdd into dataframe and add columns for count of nodes and edges\n",
    "df_community = spark.createDataFrame(community_rdd)\n",
    "df_community.show()\n",
    "# Add columns for node size and edge size\n",
    "df_with_sizes = df_community \\\n",
    "    .withColumn(\"node_size\", F.size(\"nodes\")) \\\n",
    "    .withColumn(\"edge_size\", F.size(\"edges\")) \\\n",
    "\n",
    "df_with_sizes.show()\n",
    "\n",
    "# group communities by number of nodes\n",
    "# Group by node size\n",
    "node_size_groups = df_with_sizes.groupBy(\"node_size\").count()\n",
    "node_size_groups.show()\n",
    "\n",
    "\n",
    "# group communities by number of edges\n",
    "# Group by edge size\n",
    "edge_size_groups = df_with_sizes.groupBy(\"edge_size\").count()\n",
    "edge_size_groups.show()"
   ]
  },
  {
   "cell_type": "markdown",
   "metadata": {},
   "source": [
    "### make N groups by size"
   ]
  },
  {
   "cell_type": "code",
   "execution_count": 52,
   "metadata": {},
   "outputs": [
    {
     "name": "stderr",
     "output_type": "stream",
     "text": [
      "24/11/07 11:33:34 WARN WindowExec: No Partition Defined for Window operation! Moving all data to a single partition, this can cause serious performance degradation.\n",
      "24/11/07 11:33:34 WARN WindowExec: No Partition Defined for Window operation! Moving all data to a single partition, this can cause serious performance degradation.\n",
      "24/11/07 11:33:34 WARN WindowExec: No Partition Defined for Window operation! Moving all data to a single partition, this can cause serious performance degradation.\n"
     ]
    },
    {
     "name": "stdout",
     "output_type": "stream",
     "text": [
      "+------------+--------------------+--------------------+---------+---------+-----+\n",
      "|community_id|               edges|               nodes|node_size|edge_size|group|\n",
      "+------------+--------------------+--------------------+---------+---------+-----+\n",
      "|          16|[{eindtijd -> 202...|          [623, 936]|        2|        1|    1|\n",
      "|          26|[{eindtijd -> 202...|           [24, 775]|        2|        1|    1|\n",
      "|          30|[{eindtijd -> 202...|          [216, 710]|        2|        1|    1|\n",
      "|          32|[{eindtijd -> 202...|          [740, 743]|        2|        1|    1|\n",
      "|          33|[{eindtijd -> 202...|           [50, 749]|        2|        1|    1|\n",
      "|          34|[{eindtijd -> 202...|          [193, 949]|        2|        1|    1|\n",
      "|          35|[{eindtijd -> 202...|           [47, 620]|        2|        1|    1|\n",
      "|          37|[{eindtijd -> 202...|          [150, 795]|        2|        1|    1|\n",
      "|          38|[{eindtijd -> 202...|          [273, 976]|        2|        1|    1|\n",
      "|          39|[{eindtijd -> 202...|          [128, 280]|        2|        1|    1|\n",
      "|          40|[{eindtijd -> 202...|          [316, 360]|        2|        1|    1|\n",
      "|          41|[{eindtijd -> 202...|          [261, 865]|        2|        1|    1|\n",
      "|          42|[{eindtijd -> 202...|          [647, 861]|        2|        1|    1|\n",
      "|          44|[{eindtijd -> 202...|          [541, 989]|        2|        1|    1|\n",
      "|          45|[{eindtijd -> 202...|          [733, 863]|        2|        1|    1|\n",
      "|          46|[{eindtijd -> 202...|          [145, 493]|        2|        1|    1|\n",
      "|          47|[{eindtijd -> 202...|          [410, 802]|        2|        1|    1|\n",
      "|          48|[{eindtijd -> 202...|          [780, 873]|        2|        1|    1|\n",
      "|          49|[{eindtijd -> 202...|          [600, 661]|        2|        1|    2|\n",
      "|          50|[{eindtijd -> 202...|          [501, 671]|        2|        1|    2|\n",
      "|          51|[{eindtijd -> 202...|          [395, 724]|        2|        1|    2|\n",
      "|          52|[{eindtijd -> 202...|           [46, 821]|        2|        1|    2|\n",
      "|          53|[{eindtijd -> 202...|          [278, 328]|        2|        1|    2|\n",
      "|          20|[{eindtijd -> 202...|     [311, 479, 855]|        3|        2|    2|\n",
      "|          25|[{eindtijd -> 202...|     [534, 675, 814]|        3|        2|    2|\n",
      "|          29|[{eindtijd -> 202...|      [355, 704, 79]|        3|        2|    2|\n",
      "|          36|[{eindtijd -> 202...|       [285, 883, 7]|        3|        2|    2|\n",
      "|          43|[{eindtijd -> 202...|     [248, 349, 302]|        3|        2|    2|\n",
      "|          28|[{eindtijd -> 202...|[571, 912, 116, 220]|        4|        3|    2|\n",
      "|          31|[{eindtijd -> 202...|[187, 396, 300, 731]|        4|        3|    2|\n",
      "|          21|[{eindtijd -> 202...|[122, 228, 959, 1...|       13|       12|    2|\n",
      "|          15|[{eindtijd -> 202...|[255, 835, 69, 88...|       21|       20|    2|\n",
      "|          22|[{eindtijd -> 202...|[404, 838, 339, 8...|       21|       20|    2|\n",
      "|          27|[{eindtijd -> 202...|[765, 54, 141, 70...|       25|       25|    2|\n",
      "|           2|[{eindtijd -> 202...|[419, 134, 779, 4...|       26|       26|    2|\n",
      "|          10|[{eindtijd -> 202...|[451, 306, 543, 1...|       26|       28|    2|\n",
      "|          24|[{eindtijd -> 202...|[530, 807, 709, 4...|       26|       25|    3|\n",
      "|           3|[{eindtijd -> 202...|[51, 411, 958, 98...|       29|       28|    3|\n",
      "|           6|[{eindtijd -> 202...|[759, 386, 483, 2...|       30|       29|    3|\n",
      "|          19|[{eindtijd -> 202...|[163, 599, 481, 5...|       31|       31|    3|\n",
      "|          23|[{eindtijd -> 202...|[439, 505, 832, 9...|       31|       30|    3|\n",
      "|           1|[{eindtijd -> 202...|[371, 340, 378, 6...|       35|       35|    3|\n",
      "|           9|[{eindtijd -> 202...|[250, 298, 299, 1...|       36|       37|    3|\n",
      "|           8|[{eindtijd -> 202...|[204, 651, 618, 8...|       37|       39|    3|\n",
      "|          11|[{eindtijd -> 202...|[4, 577, 406, 900...|       38|       38|    3|\n",
      "|          12|[{eindtijd -> 202...|[797, 984, 476, 1...|       41|       41|    3|\n",
      "|          17|[{eindtijd -> 202...|[497, 622, 576, 5...|       43|       44|    3|\n",
      "|           5|[{eindtijd -> 202...|[132, 290, 999, 4...|       46|       48|    3|\n",
      "|          14|[{eindtijd -> 202...|[305, 322, 86, 38...|       46|       47|    3|\n",
      "|           7|[{eindtijd -> 202...|[138, 398, 109, 4...|       47|       49|    3|\n",
      "|          18|[{eindtijd -> 202...|[424, 677, 432, 9...|       48|       48|    3|\n",
      "|          13|[{eindtijd -> 202...|[777, 567, 674, 9...|       50|       53|    3|\n",
      "|           4|[{eindtijd -> 202...|[87, 337, 351, 43...|       57|       58|    3|\n",
      "+------------+--------------------+--------------------+---------+---------+-----+\n",
      "\n"
     ]
    }
   ],
   "source": [
    "# group communities by number of nodes and edges\n",
    "def group_by_size(df, num_groups, column_name):\n",
    "  # sort the data by the column name\n",
    "  sorted_df = df.sort(column_name)\n",
    "\n",
    "  # calculate the size of each group\n",
    "  group_size = math.ceil(df.count() / num_groups)\n",
    "  \n",
    "  # add a row number column to the dataframe\n",
    "  df_with_row_number = df.withColumn(\"row_number\", row_number().over(Window.orderBy(column_name)))\n",
    "\n",
    "  # use row number to create groups\n",
    "  df_groups = df_with_row_number.withColumn(\"group\", ceil(col(\"row_number\") / group_size)).drop(\"row_number\")\n",
    "\n",
    "  return df_groups\n",
    "\n",
    "\n",
    "result = group_by_size(df_with_sizes, 3, 'node_size')\n",
    "result.show(55)"
   ]
  },
  {
   "cell_type": "code",
   "execution_count": 61,
   "metadata": {},
   "outputs": [
    {
     "name": "stderr",
     "output_type": "stream",
     "text": [
      "24/11/07 12:37:30 WARN WindowExec: No Partition Defined for Window operation! Moving all data to a single partition, this can cause serious performance degradation.\n",
      "24/11/07 12:37:30 WARN WindowExec: No Partition Defined for Window operation! Moving all data to a single partition, this can cause serious performance degradation.\n",
      "24/11/07 12:37:30 WARN WindowExec: No Partition Defined for Window operation! Moving all data to a single partition, this can cause serious performance degradation.\n",
      "24/11/07 12:37:30 WARN WindowExec: No Partition Defined for Window operation! Moving all data to a single partition, this can cause serious performance degradation.\n"
     ]
    },
    {
     "name": "stdout",
     "output_type": "stream",
     "text": [
      "+--------+-----+--------------+--------------+----------+----------+--------------------+--------------------+\n",
      "|   pairs|group|community_id_1|community_id_2|   nodes_1|   nodes_2|             edges_1|             edges_2|\n",
      "+--------+-----+--------------+--------------+----------+----------+--------------------+--------------------+\n",
      "|[16, 26]|    1|            16|            26|[623, 936]| [24, 775]|[{eindtijd -> 202...|[{eindtijd -> 202...|\n",
      "|[16, 30]|    1|            16|            30|[623, 936]|[216, 710]|[{eindtijd -> 202...|[{eindtijd -> 202...|\n",
      "|[16, 32]|    1|            16|            32|[623, 936]|[740, 743]|[{eindtijd -> 202...|[{eindtijd -> 202...|\n",
      "|[16, 33]|    1|            16|            33|[623, 936]| [50, 749]|[{eindtijd -> 202...|[{eindtijd -> 202...|\n",
      "|[16, 34]|    1|            16|            34|[623, 936]|[193, 949]|[{eindtijd -> 202...|[{eindtijd -> 202...|\n",
      "|[16, 35]|    1|            16|            35|[623, 936]| [47, 620]|[{eindtijd -> 202...|[{eindtijd -> 202...|\n",
      "|[16, 37]|    1|            16|            37|[623, 936]|[150, 795]|[{eindtijd -> 202...|[{eindtijd -> 202...|\n",
      "|[16, 38]|    1|            16|            38|[623, 936]|[273, 976]|[{eindtijd -> 202...|[{eindtijd -> 202...|\n",
      "|[16, 39]|    1|            16|            39|[623, 936]|[128, 280]|[{eindtijd -> 202...|[{eindtijd -> 202...|\n",
      "|[16, 40]|    1|            16|            40|[623, 936]|[316, 360]|[{eindtijd -> 202...|[{eindtijd -> 202...|\n",
      "|[16, 41]|    1|            16|            41|[623, 936]|[261, 865]|[{eindtijd -> 202...|[{eindtijd -> 202...|\n",
      "|[16, 42]|    1|            16|            42|[623, 936]|[647, 861]|[{eindtijd -> 202...|[{eindtijd -> 202...|\n",
      "|[16, 44]|    1|            16|            44|[623, 936]|[541, 989]|[{eindtijd -> 202...|[{eindtijd -> 202...|\n",
      "|[16, 45]|    1|            16|            45|[623, 936]|[733, 863]|[{eindtijd -> 202...|[{eindtijd -> 202...|\n",
      "|[16, 46]|    1|            16|            46|[623, 936]|[145, 493]|[{eindtijd -> 202...|[{eindtijd -> 202...|\n",
      "|[16, 47]|    1|            16|            47|[623, 936]|[410, 802]|[{eindtijd -> 202...|[{eindtijd -> 202...|\n",
      "|[16, 48]|    1|            16|            48|[623, 936]|[780, 873]|[{eindtijd -> 202...|[{eindtijd -> 202...|\n",
      "|[26, 30]|    1|            26|            30| [24, 775]|[216, 710]|[{eindtijd -> 202...|[{eindtijd -> 202...|\n",
      "|[26, 32]|    1|            26|            32| [24, 775]|[740, 743]|[{eindtijd -> 202...|[{eindtijd -> 202...|\n",
      "|[26, 33]|    1|            26|            33| [24, 775]| [50, 749]|[{eindtijd -> 202...|[{eindtijd -> 202...|\n",
      "+--------+-----+--------------+--------------+----------+----------+--------------------+--------------------+\n",
      "only showing top 20 rows\n",
      "\n"
     ]
    },
    {
     "name": "stderr",
     "output_type": "stream",
     "text": [
      "24/11/07 12:37:30 WARN WindowExec: No Partition Defined for Window operation! Moving all data to a single partition, this can cause serious performance degradation.\n",
      "24/11/07 12:37:30 WARN WindowExec: No Partition Defined for Window operation! Moving all data to a single partition, this can cause serious performance degradation.\n",
      "24/11/07 12:37:30 WARN WindowExec: No Partition Defined for Window operation! Moving all data to a single partition, this can cause serious performance degradation.\n",
      "24/11/07 12:37:30 WARN WindowExec: No Partition Defined for Window operation! Moving all data to a single partition, this can cause serious performance degradation.\n"
     ]
    }
   ],
   "source": [
    "# make unique pairs of communities in same group\n",
    "def create_pairs_grouped_communities(df_groups):\n",
    "  df_pairs = (\n",
    "    df_groups.alias(\"df1\")\n",
    "    .join(df_groups.alias(\"df2\"), (F.col(\"df1.group\") == F.col(\"df2.group\")) & (F.col(\"df1.community_id\") < F.col(\"df2.community_id\")))\n",
    "    # .withColumn(\"pairs\", (F.col(\"df1.community_id\") + F.lit(\", \") + F.col(\"df2.community_id\")))\n",
    "    .select(\n",
    "      F.array(F.col(\"df1.community_id\"), F.col(\"df2.community_id\")).alias(\"pairs\"),\n",
    "      F.col(\"df1.group\").alias(\"group\"),\n",
    "      F.col(\"df1.community_id\").alias(\"community_id_1\"),\n",
    "      F.col(\"df2.community_id\").alias(\"community_id_2\"),\n",
    "      F.col(\"df1.nodes\").alias(\"nodes_1\"),\n",
    "      F.col(\"df2.nodes\").alias(\"nodes_2\"),\n",
    "      F.col(\"df1.edges\").alias(\"edges_1\"),\n",
    "      F.col(\"df2.edges\").alias(\"edges_2\"),\n",
    "    )\n",
    "  )\n",
    "\n",
    "  return df_pairs\n",
    "\n",
    "result_group_communities = create_pairs_grouped_communities(result)\n",
    "result_group_communities.show()"
   ]
  },
  {
   "cell_type": "code",
   "execution_count": 62,
   "metadata": {},
   "outputs": [
    {
     "name": "stderr",
     "output_type": "stream",
     "text": [
      "24/11/07 12:39:11 WARN WindowExec: No Partition Defined for Window operation! Moving all data to a single partition, this can cause serious performance degradation.\n",
      "24/11/07 12:39:11 WARN WindowExec: No Partition Defined for Window operation! Moving all data to a single partition, this can cause serious performance degradation.\n",
      "24/11/07 12:39:11 WARN WindowExec: No Partition Defined for Window operation! Moving all data to a single partition, this can cause serious performance degradation.\n",
      "24/11/07 12:39:11 WARN WindowExec: No Partition Defined for Window operation! Moving all data to a single partition, this can cause serious performance degradation.\n",
      "24/11/07 12:39:11 WARN WindowExec: No Partition Defined for Window operation! Moving all data to a single partition, this can cause serious performance degradation.\n",
      "24/11/07 12:39:11 WARN WindowExec: No Partition Defined for Window operation! Moving all data to a single partition, this can cause serious performance degradation.\n",
      "24/11/07 12:39:11 WARN WindowExec: No Partition Defined for Window operation! Moving all data to a single partition, this can cause serious performance degradation.\n",
      "24/11/07 12:39:11 WARN WindowExec: No Partition Defined for Window operation! Moving all data to a single partition, this can cause serious performance degradation.\n"
     ]
    },
    {
     "name": "stdout",
     "output_type": "stream",
     "text": [
      "+--------+-----+--------------+--------------+----------+----------+--------------------+--------------------+\n",
      "|   pairs|group|community_id_1|community_id_2|   nodes_1|   nodes_2|             edges_1|             edges_2|\n",
      "+--------+-----+--------------+--------------+----------+----------+--------------------+--------------------+\n",
      "|[16, 26]|    1|            16|            26|[623, 936]| [24, 775]|[{eindtijd -> 202...|[{eindtijd -> 202...|\n",
      "|[16, 30]|    1|            16|            30|[623, 936]|[216, 710]|[{eindtijd -> 202...|[{eindtijd -> 202...|\n",
      "|[16, 32]|    1|            16|            32|[623, 936]|[740, 743]|[{eindtijd -> 202...|[{eindtijd -> 202...|\n",
      "|[16, 33]|    1|            16|            33|[623, 936]| [50, 749]|[{eindtijd -> 202...|[{eindtijd -> 202...|\n",
      "|[16, 34]|    1|            16|            34|[623, 936]|[193, 949]|[{eindtijd -> 202...|[{eindtijd -> 202...|\n",
      "|[16, 35]|    1|            16|            35|[623, 936]| [47, 620]|[{eindtijd -> 202...|[{eindtijd -> 202...|\n",
      "|[16, 37]|    1|            16|            37|[623, 936]|[150, 795]|[{eindtijd -> 202...|[{eindtijd -> 202...|\n",
      "|[16, 38]|    1|            16|            38|[623, 936]|[273, 976]|[{eindtijd -> 202...|[{eindtijd -> 202...|\n",
      "|[16, 39]|    1|            16|            39|[623, 936]|[128, 280]|[{eindtijd -> 202...|[{eindtijd -> 202...|\n",
      "|[16, 40]|    1|            16|            40|[623, 936]|[316, 360]|[{eindtijd -> 202...|[{eindtijd -> 202...|\n",
      "|[16, 41]|    1|            16|            41|[623, 936]|[261, 865]|[{eindtijd -> 202...|[{eindtijd -> 202...|\n",
      "|[16, 42]|    1|            16|            42|[623, 936]|[647, 861]|[{eindtijd -> 202...|[{eindtijd -> 202...|\n",
      "|[16, 44]|    1|            16|            44|[623, 936]|[541, 989]|[{eindtijd -> 202...|[{eindtijd -> 202...|\n",
      "|[16, 45]|    1|            16|            45|[623, 936]|[733, 863]|[{eindtijd -> 202...|[{eindtijd -> 202...|\n",
      "|[16, 46]|    1|            16|            46|[623, 936]|[145, 493]|[{eindtijd -> 202...|[{eindtijd -> 202...|\n",
      "|[16, 47]|    1|            16|            47|[623, 936]|[410, 802]|[{eindtijd -> 202...|[{eindtijd -> 202...|\n",
      "|[16, 48]|    1|            16|            48|[623, 936]|[780, 873]|[{eindtijd -> 202...|[{eindtijd -> 202...|\n",
      "|[26, 30]|    1|            26|            30| [24, 775]|[216, 710]|[{eindtijd -> 202...|[{eindtijd -> 202...|\n",
      "|[26, 32]|    1|            26|            32| [24, 775]|[740, 743]|[{eindtijd -> 202...|[{eindtijd -> 202...|\n",
      "|[26, 33]|    1|            26|            33| [24, 775]| [50, 749]|[{eindtijd -> 202...|[{eindtijd -> 202...|\n",
      "+--------+-----+--------------+--------------+----------+----------+--------------------+--------------------+\n",
      "only showing top 20 rows\n",
      "\n"
     ]
    }
   ],
   "source": [
    "# complete code to turn rdd of communities into dataframe of pairs of communities of similiar node or edge size\n",
    "def rdd_community_to_dataframe_paired_community_by_column(rdd_communities, number_groups_of_communities_wanted, column_name):\n",
    "  # turn rdd into dataframe and add columns for count of nodes and edges\n",
    "  df_community = spark.createDataFrame(rdd_communities)\n",
    "  df_with_sizes = df_community \\\n",
    "    .withColumn(\"node_size\", F.size(\"nodes\")) \\\n",
    "    .withColumn(\"edge_size\", F.size(\"edges\")) \\\n",
    "\n",
    "  # group communities by number of nodes and edges\n",
    "  df_communities_groups = group_by_size(df_with_sizes, number_groups_of_communities_wanted, column_name)\n",
    "\n",
    "  # make unique pairs of communities in same group\n",
    "  result_grouped_communities = create_pairs_grouped_communities(df_communities_groups)\n",
    "\n",
    "  # from this dataframe you can see which communities are grouped together, so all the pairs as a seperate column\n",
    "\n",
    "  return result_grouped_communities\n",
    "\n",
    "\n",
    "# example\n",
    "example_result = rdd_community_to_dataframe_paired_community_by_column(community_rdd, 3, 'node_size')\n",
    "example_result.show()"
   ]
  }
 ],
 "metadata": {
  "kernelspec": {
   "display_name": "Python 3",
   "language": "python",
   "name": "python3"
  },
  "language_info": {
   "codemirror_mode": {
    "name": "ipython",
    "version": 3
   },
   "file_extension": ".py",
   "mimetype": "text/x-python",
   "name": "python",
   "nbconvert_exporter": "python",
   "pygments_lexer": "ipython3",
   "version": "3.10.12"
  }
 },
 "nbformat": 4,
 "nbformat_minor": 2
}
