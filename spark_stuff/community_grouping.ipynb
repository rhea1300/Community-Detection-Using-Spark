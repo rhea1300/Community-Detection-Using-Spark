{
 "cells": [
  {
   "cell_type": "markdown",
   "metadata": {},
   "source": [
    "## spark setup & libraries"
   ]
  },
  {
   "cell_type": "code",
   "execution_count": 8,
   "metadata": {},
   "outputs": [],
   "source": [
    "# spark setup\n",
    "import pyspark\n",
    "from pyspark import SparkContext, SparkConf\n",
    "from pyspark.sql import SparkSession, Row\n",
    "from pyspark.sql import functions as F\n",
    "from pyspark.ml.feature import MinHashLSH, VectorAssembler\n",
    "from pyspark.ml.linalg import Vectors\n",
    "from pyspark.sql.functions import col, when, explode, lit, array_contains\n",
    "\n",
    "\n",
    "# libraries\n",
    "import pandas as pd\n",
    "import numpy as np\n",
    "import matplotlib.pyplot as plt\n",
    "import json\n",
    "\n",
    "# show all rows with df.head\n",
    "pd.options.display.max_columns = None\n",
    "# remove warnings\n",
    "import warnings\n",
    "warnings.filterwarnings('ignore')"
   ]
  },
  {
   "cell_type": "markdown",
   "metadata": {},
   "source": [
    "## create spark session + load data"
   ]
  },
  {
   "cell_type": "code",
   "execution_count": 2,
   "metadata": {},
   "outputs": [
    {
     "name": "stderr",
     "output_type": "stream",
     "text": [
      "your 131072x1 screen size is bogus. expect trouble\n",
      "Warning: Ignoring non-Spark config property: spak.driver.maxResultSize\n",
      "24/11/02 16:50:44 WARN Utils: Your hostname, MadioLaptop resolves to a loopback address: 127.0.1.1; using 10.255.255.254 instead (on interface lo)\n",
      "24/11/02 16:50:44 WARN Utils: Set SPARK_LOCAL_IP if you need to bind to another address\n",
      "Setting default log level to \"WARN\".\n",
      "To adjust logging level use sc.setLogLevel(newLevel). For SparkR, use setLogLevel(newLevel).\n",
      "24/11/02 16:50:45 WARN NativeCodeLoader: Unable to load native-hadoop library for your platform... using builtin-java classes where applicable\n"
     ]
    }
   ],
   "source": [
    "spark = SparkSession.builder \\\n",
    "  .appName(\"DIS_project_5\") \\\n",
    "  .master(\"local[*]\") \\\n",
    "  .config(\"spark.driver.memory\", \"10G\") \\\n",
    "  .config(\"spa\\rk.driver.maxResultSize\", \"40g\") \\\n",
    "  .config(\"spark.sql.autoBroadcastJoinThreshold\", \"-1\") \\\n",
    "  .getOrCreate()\n",
    "spark\n",
    "sc = spark.sparkContext"
   ]
  },
  {
   "cell_type": "code",
   "execution_count": 3,
   "metadata": {},
   "outputs": [
    {
     "name": "stderr",
     "output_type": "stream",
     "text": [
      "                                                                                \r"
     ]
    },
    {
     "name": "stdout",
     "output_type": "stream",
     "text": [
      "[{'community_id': 1, 'nodes': [371, 340, 378, 667, 974, 368, 627, 64, 168, 257, 925, 767, 549, 890, 899, 226, 45, 71, 72, 381, 707, 973, 812, 839, 96, 433, 670, 468, 466, 876, 402, 646, 593, 366, 612], 'edges': [{'node1': 371, 'node2': 549, 'begintijd': 20240318013535, 'eindtijd': 20240318030219}, {'node1': 371, 'node2': 812, 'begintijd': 20240412020025, 'eindtijd': 20240412053609}, {'node1': 371, 'node2': 670, 'begintijd': 20240606074446, 'eindtijd': 20240606110610}, {'node1': 340, 'node2': 378, 'begintijd': 20240918161950, 'eindtijd': 20240918172041}, {'node1': 378, 'node2': 466, 'begintijd': 20240918071254, 'eindtijd': 20240918140257}, {'node1': 667, 'node2': 767, 'begintijd': 20241101133614, 'eindtijd': 20241101175233}, {'node1': 368, 'node2': 627, 'begintijd': 20240112043512, 'eindtijd': 20240112122716}, {'node1': 368, 'node2': 767, 'begintijd': 20240205225900, 'eindtijd': 20240206062846}, {'node1': 64, 'node2': 627, 'begintijd': 20240407064043, 'eindtijd': 20240407074414}, {'node1': 64, 'node2': 168, 'begintijd': 20240928095457, 'eindtijd': 20240928114604}, {'node1': 64, 'node2': 226, 'begintijd': 20241022113437, 'eindtijd': 20241022183018}, {'node1': 257, 'node2': 925, 'begintijd': 20241007111457, 'eindtijd': 20241007182545}, {'node1': 257, 'node2': 707, 'begintijd': 20240626100106, 'eindtijd': 20240626174344}, {'node1': 767, 'node2': 925, 'begintijd': 20240308140308, 'eindtijd': 20240308194017}, {'node1': 549, 'node2': 627, 'begintijd': 20240408074017, 'eindtijd': 20240408100436}, {'node1': 890, 'node2': 899, 'begintijd': 20240629052402, 'eindtijd': 20240629055550}, {'node1': 899, 'node2': 925, 'begintijd': 20240723004250, 'eindtijd': 20240723024304}, {'node1': 226, 'node2': 378, 'begintijd': 20240904135727, 'eindtijd': 20240904163115}, {'node1': 45, 'node2': 71, 'begintijd': 20240603035909, 'eindtijd': 20240603102716}, {'node1': 45, 'node2': 433, 'begintijd': 20241020095605, 'eindtijd': 20241020154040}, {'node1': 71, 'node2': 839, 'begintijd': 20241125055722, 'eindtijd': 20241125131254}, {'node1': 72, 'node2': 381, 'begintijd': 20240614121045, 'eindtijd': 20240614191221}, {'node1': 72, 'node2': 593, 'begintijd': 20240527122521, 'eindtijd': 20240527183618}, {'node1': 381, 'node2': 670, 'begintijd': 20240512211223, 'eindtijd': 20240513012106}, {'node1': 707, 'node2': 974, 'begintijd': 20240208004134, 'eindtijd': 20240208041434}, {'node1': 707, 'node2': 973, 'begintijd': 20240227072425, 'eindtijd': 20240227110628}, {'node1': 839, 'node2': 899, 'begintijd': 20240905105118, 'eindtijd': 20240905132217}, {'node1': 96, 'node2': 707, 'begintijd': 20240719120422, 'eindtijd': 20240719125159}, {'node1': 96, 'node2': 612, 'begintijd': 20240903132343, 'eindtijd': 20240903144515}, {'node1': 468, 'node2': 974, 'begintijd': 20240512085929, 'eindtijd': 20240512121855}, {'node1': 466, 'node2': 876, 'begintijd': 20240120051319, 'eindtijd': 20240120130536}, {'node1': 876, 'node2': 974, 'begintijd': 20240416103045, 'eindtijd': 20240416145019}, {'node1': 402, 'node2': 667, 'begintijd': 20241006151640, 'eindtijd': 20241006205427}, {'node1': 402, 'node2': 646, 'begintijd': 20240820041732, 'eindtijd': 20240820073334}, {'node1': 366, 'node2': 925, 'begintijd': 20240704002340, 'eindtijd': 20240704024026}]}, {'community_id': 2, 'nodes': [419, 134, 779, 447, 894, 235, 81, 281, 486, 442, 774, 108, 952, 513, 177, 458, 107, 15, 102, 345, 162, 346, 636, 756, 18, 518], 'edges': [{'node1': 419, 'node2': 518, 'begintijd': 20240302155007, 'eindtijd': 20240302220343}, {'node1': 134, 'node2': 779, 'begintijd': 20240523214105, 'eindtijd': 20240524022319}, {'node1': 134, 'node2': 486, 'begintijd': 20240527093355, 'eindtijd': 20240527100706}, {'node1': 134, 'node2': 345, 'begintijd': 20241112061756, 'eindtijd': 20241112122028}, {'node1': 447, 'node2': 894, 'begintijd': 20240425043006, 'eindtijd': 20240425062919}, {'node1': 235, 'node2': 779, 'begintijd': 20240204223616, 'eindtijd': 20240205050326}, {'node1': 81, 'node2': 281, 'begintijd': 20240428111549, 'eindtijd': 20240428123457}, {'node1': 81, 'node2': 107, 'begintijd': 20240309163704, 'eindtijd': 20240309191129}, {'node1': 486, 'node2': 513, 'begintijd': 20240516175158, 'eindtijd': 20240516210739}, {'node1': 442, 'node2': 779, 'begintijd': 20241208033145, 'eindtijd': 20241208112349}, {'node1': 442, 'node2': 458, 'begintijd': 20240412080400, 'eindtijd': 20240412134549}, {'node1': 774, 'node2': 894, 'begintijd': 20240622115250, 'eindtijd': 20240622181316}, {'node1': 108, 'node2': 281, 'begintijd': 20240417212952, 'eindtijd': 20240418050325}, {'node1': 108, 'node2': 774, 'begintijd': 20240714211802, 'eindtijd': 20240715041739}, {'node1': 108, 'node2': 952, 'begintijd': 20241229015119, 'eindtijd': 20241229080344}, {'node1': 177, 'node2': 419, 'begintijd': 20241117010619, 'eindtijd': 20241117064714}, {'node1': 177, 'node2': 458, 'begintijd': 20240802132358, 'eindtijd': 20240802170931}, {'node1': 458, 'node2': 513, 'begintijd': 20240131163701, 'eindtijd': 20240131231250}, {'node1': 107, 'node2': 486, 'begintijd': 20240110134850, 'eindtijd': 20240110212436}, {'node1': 107, 'node2': 162, 'begintijd': 20240104022033, 'eindtijd': 20240104091644}, {'node1': 15, 'node2': 102, 'begintijd': 20240709200626, 'eindtijd': 20240709211531}, {'node1': 102, 'node2': 442, 'begintijd': 20240924002130, 'eindtijd': 20240924035050}, {'node1': 346, 'node2': 447, 'begintijd': 20240408065946, 'eindtijd': 20240408130338}, {'node1': 636, 'node2': 756, 'begintijd': 20240519051022, 'eindtijd': 20240519064344}, {'node1': 756, 'node2': 779, 'begintijd': 20240504234719, 'eindtijd': 20240505040001}, {'node1': 18, 'node2': 458, 'begintijd': 20240506014740, 'eindtijd': 20240506043114}]}, {'community_id': 3, 'nodes': [51, 411, 958, 983, 678, 830, 846, 415, 919, 844, 517, 652, 437, 598, 680, 313, 327, 727, 737, 714, 194, 121, 462, 478, 58, 288, 882, 400, 348], 'edges': [{'node1': 51, 'node2': 411, 'begintijd': 20240828001254, 'eindtijd': 20240828040808}, {'node1': 51, 'node2': 958, 'begintijd': 20240728154126, 'eindtijd': 20240728200440}, {'node1': 51, 'node2': 983, 'begintijd': 20240604162420, 'eindtijd': 20240604190715}, {'node1': 51, 'node2': 678, 'begintijd': 20240522051950, 'eindtijd': 20240522081012}, {'node1': 411, 'node2': 844, 'begintijd': 20240524133133, 'eindtijd': 20240524194721}, {'node1': 411, 'node2': 882, 'begintijd': 20240407180515, 'eindtijd': 20240407222845}, {'node1': 830, 'node2': 846, 'begintijd': 20240420065406, 'eindtijd': 20240420140239}, {'node1': 415, 'node2': 919, 'begintijd': 20240823111245, 'eindtijd': 20240823160137}, {'node1': 415, 'node2': 882, 'begintijd': 20240422063406, 'eindtijd': 20240422085635}, {'node1': 844, 'node2': 846, 'begintijd': 20240922165300, 'eindtijd': 20240923005109}, {'node1': 517, 'node2': 983, 'begintijd': 20241205014213, 'eindtijd': 20241205085910}, {'node1': 517, 'node2': 652, 'begintijd': 20240628001411, 'eindtijd': 20240628071109}, {'node1': 652, 'node2': 737, 'begintijd': 20240615114022, 'eindtijd': 20240615152120}, {'node1': 437, 'node2': 737, 'begintijd': 20240814072942, 'eindtijd': 20240814104153}, {'node1': 598, 'node2': 830, 'begintijd': 20240518115020, 'eindtijd': 20240518140630}, {'node1': 598, 'node2': 680, 'begintijd': 20241229171156, 'eindtijd': 20241229210410}, {'node1': 313, 'node2': 919, 'begintijd': 20240825160746, 'eindtijd': 20240825171501}, {'node1': 313, 'node2': 327, 'begintijd': 20241106135010, 'eindtijd': 20241106142342}, {'node1': 327, 'node2': 714, 'begintijd': 20240610162536, 'eindtijd': 20240610200933}, {'node1': 727, 'node2': 737, 'begintijd': 20241018125537, 'eindtijd': 20241018172220}, {'node1': 194, 'node2': 652, 'begintijd': 20240829025700, 'eindtijd': 20240829073005}, {'node1': 121, 'node2': 919, 'begintijd': 20240827021813, 'eindtijd': 20240827054002}, {'node1': 462, 'node2': 517, 'begintijd': 20241023204545, 'eindtijd': 20241024014702}, {'node1': 462, 'node2': 478, 'begintijd': 20241019170126, 'eindtijd': 20241019215654}, {'node1': 58, 'node2': 678, 'begintijd': 20240404202241, 'eindtijd': 20240404223854}, {'node1': 58, 'node2': 348, 'begintijd': 20240511034555, 'eindtijd': 20240511105708}, {'node1': 288, 'node2': 727, 'begintijd': 20240419082434, 'eindtijd': 20240419145809}, {'node1': 288, 'node2': 400, 'begintijd': 20241216115644, 'eindtijd': 20241216125531}]}]\n",
      "53\n",
      "<class 'pyspark.rdd.RDD'>\n"
     ]
    }
   ],
   "source": [
    "json_file_path = \"../Community Detection/10K.json\"\n",
    "with open(json_file_path, 'r') as f:\n",
    "    community_data = json.load(f)\n",
    "\n",
    "community_rdd = sc.parallelize(community_data)\n",
    "print(community_rdd.take(3))\n",
    "print(community_rdd.count())\n",
    "print(type(community_rdd))"
   ]
  },
  {
   "cell_type": "markdown",
   "metadata": {},
   "source": [
    "## group communities"
   ]
  },
  {
   "cell_type": "code",
   "execution_count": 16,
   "metadata": {},
   "outputs": [
    {
     "name": "stdout",
     "output_type": "stream",
     "text": [
      "+------------+--------------------+--------------------+\n",
      "|community_id|               edges|               nodes|\n",
      "+------------+--------------------+--------------------+\n",
      "|           1|[{eindtijd -> 202...|[371, 340, 378, 6...|\n",
      "|           2|[{eindtijd -> 202...|[419, 134, 779, 4...|\n",
      "|           3|[{eindtijd -> 202...|[51, 411, 958, 98...|\n",
      "|           4|[{eindtijd -> 202...|[87, 337, 351, 43...|\n",
      "|           5|[{eindtijd -> 202...|[132, 290, 999, 4...|\n",
      "|           6|[{eindtijd -> 202...|[759, 386, 483, 2...|\n",
      "|           7|[{eindtijd -> 202...|[138, 398, 109, 4...|\n",
      "|           8|[{eindtijd -> 202...|[204, 651, 618, 8...|\n",
      "|           9|[{eindtijd -> 202...|[250, 298, 299, 1...|\n",
      "|          10|[{eindtijd -> 202...|[451, 306, 543, 1...|\n",
      "|          11|[{eindtijd -> 202...|[4, 577, 406, 900...|\n",
      "|          12|[{eindtijd -> 202...|[797, 984, 476, 1...|\n",
      "|          13|[{eindtijd -> 202...|[777, 567, 674, 9...|\n",
      "|          14|[{eindtijd -> 202...|[305, 322, 86, 38...|\n",
      "|          15|[{eindtijd -> 202...|[255, 835, 69, 88...|\n",
      "|          16|[{eindtijd -> 202...|          [623, 936]|\n",
      "|          17|[{eindtijd -> 202...|[497, 622, 576, 5...|\n",
      "|          18|[{eindtijd -> 202...|[424, 677, 432, 9...|\n",
      "|          19|[{eindtijd -> 202...|[163, 599, 481, 5...|\n",
      "|          20|[{eindtijd -> 202...|     [311, 479, 855]|\n",
      "+------------+--------------------+--------------------+\n",
      "only showing top 20 rows\n",
      "\n",
      "+---------+-----+\n",
      "|node_size|count|\n",
      "+---------+-----+\n",
      "|       26|    3|\n",
      "|       57|    1|\n",
      "|       35|    1|\n",
      "|       29|    1|\n",
      "|       47|    1|\n",
      "|       37|    1|\n",
      "|       30|    1|\n",
      "|       46|    2|\n",
      "|       41|    1|\n",
      "|       38|    1|\n",
      "|       36|    1|\n",
      "|       50|    1|\n",
      "|       21|    2|\n",
      "|        2|   23|\n",
      "|       31|    2|\n",
      "|        3|    5|\n",
      "|       48|    1|\n",
      "|       43|    1|\n",
      "|       13|    1|\n",
      "|        4|    2|\n",
      "+---------+-----+\n",
      "only showing top 20 rows\n",
      "\n",
      "+---------+-----+\n",
      "|edge_size|count|\n",
      "+---------+-----+\n",
      "|       28|    2|\n",
      "|       26|    1|\n",
      "|       35|    1|\n",
      "|       58|    1|\n",
      "|       48|    2|\n",
      "|       39|    1|\n",
      "|       49|    1|\n",
      "|       29|    1|\n",
      "|       41|    1|\n",
      "|       37|    1|\n",
      "|       38|    1|\n",
      "|       53|    1|\n",
      "|       47|    1|\n",
      "|        1|   23|\n",
      "|       20|    2|\n",
      "|       31|    1|\n",
      "|       44|    1|\n",
      "|        2|    5|\n",
      "|       12|    1|\n",
      "|        3|    2|\n",
      "+---------+-----+\n",
      "only showing top 20 rows\n",
      "\n"
     ]
    }
   ],
   "source": [
    "# turn rdd into dataframe and add columns for count of nodes and edges\n",
    "df_community = spark.createDataFrame(community_rdd)\n",
    "df_community.show()\n",
    "# Add columns for node size and edge size\n",
    "df_with_sizes = df_community \\\n",
    "    .withColumn(\"node_size\", F.size(\"nodes\")) \\\n",
    "    .withColumn(\"edge_size\", F.size(\"edges\")) \\\n",
    "\n",
    "# group communities by number of nodes\n",
    "# Group by node size\n",
    "node_size_groups = df_with_sizes.groupBy(\"node_size\").count()\n",
    "node_size_groups.show()\n",
    "\n",
    "\n",
    "# group communities by number of edges\n",
    "# Group by edge size\n",
    "edge_size_groups = df_with_sizes.groupBy(\"edge_size\").count()\n",
    "edge_size_groups.show()"
   ]
  },
  {
   "cell_type": "code",
   "execution_count": null,
   "metadata": {},
   "outputs": [],
   "source": []
  },
  {
   "cell_type": "code",
   "execution_count": null,
   "metadata": {},
   "outputs": [],
   "source": []
  }
 ],
 "metadata": {
  "kernelspec": {
   "display_name": "Python 3",
   "language": "python",
   "name": "python3"
  },
  "language_info": {
   "codemirror_mode": {
    "name": "ipython",
    "version": 3
   },
   "file_extension": ".py",
   "mimetype": "text/x-python",
   "name": "python",
   "nbconvert_exporter": "python",
   "pygments_lexer": "ipython3",
   "version": "3.10.12"
  }
 },
 "nbformat": 4,
 "nbformat_minor": 2
}
