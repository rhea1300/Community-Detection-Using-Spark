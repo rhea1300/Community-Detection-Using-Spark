{
 "cells": [
  {
   "cell_type": "code",
   "execution_count": 1,
   "metadata": {},
   "outputs": [],
   "source": [
    "import pandas as pd\n",
    "import networkx as nx\n",
    "import community as community_louvain  # Louvain method from the python-louvain package\n",
    "import json"
   ]
  },
  {
   "cell_type": "code",
   "execution_count": 2,
   "metadata": {},
   "outputs": [],
   "source": [
    "# Step 1: Load the CSV file and preprocess\n",
    "def load_data(csv_file):\n",
    "    df = pd.read_csv(csv_file)\n",
    "    return df"
   ]
  },
  {
   "cell_type": "code",
   "execution_count": 3,
   "metadata": {},
   "outputs": [],
   "source": [
    "# Step 2: Build the Graph with call times as edge attributes\n",
    "def build_graph(df):\n",
    "    G = nx.Graph()\n",
    "    # Add edges between clients with call time attributes (start and end)\n",
    "    for _, row in df.iterrows():\n",
    "        node1 = int(row['nodeNaam1'])  # Ensure int conversion\n",
    "        node2 = int(row['nodeNaam2'])  # Ensure int conversion\n",
    "        begintijd = int(row['begintijd'])  # Ensure int conversion\n",
    "        eindtijd = int(row['eindtijd'])  # Ensure int conversion\n",
    "        G.add_edge(node1, node2, begintijd=begintijd, eindtijd=eindtijd)  # Add edge with attributes\n",
    "    return G"
   ]
  },
  {
   "cell_type": "code",
   "execution_count": 4,
   "metadata": {},
   "outputs": [],
   "source": [
    "# Step 3: Detect Communities Using Louvain Method and Store Call Times\n",
    "def detect_communities_with_louvain(G):\n",
    "    # Louvain method to detect communities\n",
    "    partition = community_louvain.best_partition(G)\n",
    "    \n",
    "    # Create a dictionary to store nodes and edges per community\n",
    "    community_dict = {}\n",
    "    community_id = 1  # Start community IDs from 1\n",
    "\n",
    "    for node, community in partition.items():\n",
    "        if community not in community_dict:\n",
    "            community_dict[community] = {\n",
    "                'community_id': community_id,\n",
    "                'nodes': [],\n",
    "                'edges': []\n",
    "            }\n",
    "            community_id += 1\n",
    "        community_dict[community]['nodes'].append(node)\n",
    "    \n",
    "    # Add edges for each community\n",
    "    for community in community_dict.values():\n",
    "        for node1 in community['nodes']:\n",
    "            for node2 in community['nodes']:\n",
    "                if node1 < node2 and G.has_edge(node1, node2):\n",
    "                    # Get call times for each edge between nodes\n",
    "                    call_times = G[node1][node2]\n",
    "                    edge_info = {\n",
    "                        'node1': int(node1),  # Ensure int conversion\n",
    "                        'node2': int(node2),  # Ensure int conversion\n",
    "                        'begintijd': int(call_times['begintijd']),  # Ensure int conversion\n",
    "                        'eindtijd': int(call_times['eindtijd'])  # Ensure int conversion\n",
    "                    }\n",
    "                    if edge_info not in community['edges']:\n",
    "                        community['edges'].append(edge_info)\n",
    "    \n",
    "    return list(community_dict.values())"
   ]
  },
  {
   "cell_type": "code",
   "execution_count": 5,
   "metadata": {},
   "outputs": [],
   "source": [
    "def store_communities_with_call_times(communities, output_file):\n",
    "    with open(output_file, 'w') as f:\n",
    "        json.dump(communities, f, indent=4)\n"
   ]
  },
  {
   "cell_type": "code",
   "execution_count": 6,
   "metadata": {},
   "outputs": [],
   "source": [
    "# Full pipeline\n",
    "def community_detection_with_louvain(csv_file, output_file):\n",
    "    # Load data\n",
    "    df = load_data(csv_file)\n",
    "    \n",
    "    # Build graph with call times\n",
    "    G = build_graph(df)\n",
    "    \n",
    "    # Detect communities using Louvain method\n",
    "    communities = detect_communities_with_louvain(G)\n",
    "    \n",
    "    # Store communities with call times\n",
    "    store_communities_with_call_times(communities, output_file)"
   ]
  },
  {
   "cell_type": "code",
   "execution_count": null,
   "metadata": {},
   "outputs": [],
   "source": [
    "data/avgRela50_data_50000_20.csv"
   ]
  },
  {
   "cell_type": "code",
   "execution_count": 7,
   "metadata": {},
   "outputs": [],
   "source": [
    "csv_file_path = '../data/avgRela50_data_50000_20.csv'  # replace with the actual CSV file path\n",
    "output_communities_file = '50K_20.json'\n",
    "community_detection_with_louvain(csv_file_path, output_communities_file)"
   ]
  },
  {
   "cell_type": "code",
   "execution_count": 8,
   "metadata": {},
   "outputs": [],
   "source": [
    "csv_file_path = '../data/full_data_1000.csv'  # replace with the actual CSV file path\n",
    "output_communities_file = '10K.json'\n",
    "community_detection_with_louvain(csv_file_path, output_communities_file)"
   ]
  },
  {
   "cell_type": "code",
   "execution_count": 9,
   "metadata": {},
   "outputs": [],
   "source": [
    "csv_file_path = '../data/small_test2_data.csv'  # replace with the actual CSV file path\n",
    "output_communities_file = 'Small_test.json'\n",
    "community_detection_with_louvain(csv_file_path, output_communities_file)"
   ]
  },
  {
   "cell_type": "code",
   "execution_count": 8,
   "metadata": {},
   "outputs": [],
   "source": [
    "csv_file_path = '../data/full_data_20000.csv'  # replace with the actual CSV file path\n",
    "output_communities_file = '20K.json'\n",
    "community_detection_with_louvain(csv_file_path, output_communities_file)"
   ]
  }
 ],
 "metadata": {
  "kernelspec": {
   "display_name": "Python (myenv)",
   "language": "python",
   "name": "myenv"
  },
  "language_info": {
   "codemirror_mode": {
    "name": "ipython",
    "version": 3
   },
   "file_extension": ".py",
   "mimetype": "text/x-python",
   "name": "python",
   "nbconvert_exporter": "python",
   "pygments_lexer": "ipython3",
   "version": "3.11.5"
  },
  "orig_nbformat": 4
 },
 "nbformat": 4,
 "nbformat_minor": 2
}
