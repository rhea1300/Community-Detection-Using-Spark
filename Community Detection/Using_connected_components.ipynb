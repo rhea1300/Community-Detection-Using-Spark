{
 "cells": [
  {
   "cell_type": "code",
   "execution_count": 1,
   "metadata": {},
   "outputs": [],
   "source": [
    "import pandas as pd\n",
    "import networkx as nx\n",
    "from networkx import connected_components\n",
    "import json\n",
    "from itertools import combinations"
   ]
  },
  {
   "cell_type": "code",
   "execution_count": 29,
   "metadata": {},
   "outputs": [],
   "source": [
    "def load_data(csv_file):\n",
    "    df = pd.read_csv(csv_file)\n",
    "    return df"
   ]
  },
  {
   "cell_type": "code",
   "execution_count": 30,
   "metadata": {},
   "outputs": [],
   "source": [
    "def build_graph(df):\n",
    "    G = nx.Graph()\n",
    "    # Add edges between clients with call time attributes (start and end)\n",
    "    for _, row in df.iterrows():\n",
    "        node1 = int(row['nodeNaam1'])  # Ensure int conversion\n",
    "        node2 = int(row['nodeNaam2'])  # Ensure int conversion\n",
    "        begintijd = int(row['begintijd'])  # Ensure int conversion\n",
    "        eindtijd = int(row['eindtijd'])  # Ensure int conversion\n",
    "        G.add_edge(node1, node2, begintijd=begintijd, eindtijd=eindtijd)\n",
    "    return G"
   ]
  },
  {
   "cell_type": "markdown",
   "metadata": {},
   "source": [
    "#def detect_communities_with_call_times(G):\n",
    "    communities = []\n",
    "    for community in connected_components(G):\n",
    "        community_data = {\n",
    "            'nodes': [int(node) for node in community],  # Convert nodes to Python int\n",
    "            'edges': []\n",
    "        }\n",
    "        for node1 in community:\n",
    "            for node2 in G[node1]:\n",
    "                if node2 in community:\n",
    "                    # Get call times for each edge between nodes\n",
    "                    call_times = G[node1][node2]\n",
    "                    edge_info = {\n",
    "                        'node1': int(node1),  # Convert to Python int\n",
    "                        'node2': int(node2),  # Convert to Python int\n",
    "                        'begintijd': int(call_times['begintijd']),  # Convert to Python int\n",
    "                        'eindtijd': int(call_times['eindtijd'])  # Convert to Python int\n",
    "                    }\n",
    "                    # Only add each edge once (undirected graph)\n",
    "                    if edge_info not in community_data['edges']:\n",
    "                        community_data['edges'].append(edge_info)\n",
    "        communities.append(community_data)\n",
    "    return communities"
   ]
  },
  {
   "cell_type": "code",
   "execution_count": 36,
   "metadata": {},
   "outputs": [],
   "source": [
    "#Version 2\n",
    "def detect_communities_with_call_times(G):\n",
    "    communities = []\n",
    "    \n",
    "    # connected_components returns each connected set of nodes as a separate community\n",
    "    for community in connected_components(G):  \n",
    "        community_nodes = list(community)\n",
    "        community_data = {\n",
    "            'nodes': community_nodes,\n",
    "            'edges': []\n",
    "        }\n",
    "        \n",
    "        # Now, find edges within this community\n",
    "        for node1 in community_nodes:\n",
    "            for node2 in community_nodes:\n",
    "                if node1 != node2 and G.has_edge(node1, node2):  # Ensure node1 and node2 are different\n",
    "                    # Get call times for each edge between nodes\n",
    "                    call_times = G[node1][node2]\n",
    "                    edge_info = {\n",
    "                        'node1': int(node1),\n",
    "                        'node2': int(node2),\n",
    "                        'begintijd': int(call_times['begintijd']),\n",
    "                        'eindtijd': int(call_times['eindtijd'])\n",
    "                    }\n",
    "                    # Only add the edge once\n",
    "                    if edge_info not in community_data['edges']:\n",
    "                        community_data['edges'].append(edge_info)\n",
    "        communities.append(community_data)\n",
    "    return communities"
   ]
  },
  {
   "cell_type": "code",
   "execution_count": 32,
   "metadata": {},
   "outputs": [],
   "source": [
    "def store_communities_with_call_times(communities, output_file):\n",
    "    with open(output_file, 'w') as f:\n",
    "        json.dump(communities, f, indent=4)"
   ]
  },
  {
   "cell_type": "code",
   "execution_count": 33,
   "metadata": {},
   "outputs": [],
   "source": [
    "def community_detection_with_call_times(csv_file, output_file):\n",
    "    # Load data\n",
    "    df = load_data(csv_file)\n",
    "    \n",
    "    # Build graph with call times\n",
    "    G = build_graph(df)\n",
    "    \n",
    "    # Detect communities with call times\n",
    "    communities = detect_communities_with_call_times(G)\n",
    "    \n",
    "    # Store communities with call times\n",
    "    store_communities_with_call_times(communities, output_file)"
   ]
  },
  {
   "cell_type": "code",
   "execution_count": 38,
   "metadata": {},
   "outputs": [],
   "source": [
    "csv_file_path = './data/full_data_1000.csv'  # replace with the actual CSV file path\n",
    "output_communities_file = 'communities_with_call_times_1000.json'\n",
    "community_detection_with_call_times(csv_file_path, output_communities_file)"
   ]
  }
 ],
 "metadata": {
  "kernelspec": {
   "display_name": "Python (myenv)",
   "language": "python",
   "name": "myenv"
  },
  "language_info": {
   "codemirror_mode": {
    "name": "ipython",
    "version": 3
   },
   "file_extension": ".py",
   "mimetype": "text/x-python",
   "name": "python",
   "nbconvert_exporter": "python",
   "pygments_lexer": "ipython3",
   "version": "3.11.5"
  },
  "orig_nbformat": 4
 },
 "nbformat": 4,
 "nbformat_minor": 2
}
