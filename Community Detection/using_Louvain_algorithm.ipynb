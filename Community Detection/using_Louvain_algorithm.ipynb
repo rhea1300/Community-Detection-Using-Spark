{
 "cells": [
  {
   "cell_type": "code",
   "execution_count": 5,
   "metadata": {},
   "outputs": [],
   "source": [
    "import pandas as pd\n",
    "import networkx as nx\n",
    "import community as community_louvain  # Louvain method from the python-louvain package\n",
    "import json"
   ]
  },
  {
   "cell_type": "code",
   "execution_count": 6,
   "metadata": {},
   "outputs": [],
   "source": [
    "# Step 1: Load the CSV file and preprocess\n",
    "def load_data(csv_file):\n",
    "    df = pd.read_csv(csv_file)\n",
    "    return df"
   ]
  },
  {
   "cell_type": "code",
   "execution_count": 7,
   "metadata": {},
   "outputs": [],
   "source": [
    "# Step 2: Build the Graph with call times as edge attributes\n",
    "def build_graph(df):\n",
    "    G = nx.Graph()\n",
    "    # Add edges between clients with call time attributes (start and end)\n",
    "    for _, row in df.iterrows():\n",
    "        node1 = int(row['nodeNaam1'])  # Ensure int conversion\n",
    "        node2 = int(row['nodeNaam2'])  # Ensure int conversion\n",
    "        begintijd = int(row['begintijd'])  # Ensure int conversion\n",
    "        eindtijd = int(row['eindtijd'])  # Ensure int conversion\n",
    "        G.add_edge(node1, node2, begintijd=begintijd, eindtijd=eindtijd)  # Add edge with attributes\n",
    "    return G"
   ]
  },
  {
   "cell_type": "code",
   "execution_count": 8,
   "metadata": {},
   "outputs": [],
   "source": [
    "# Step 3: Detect Communities Using Louvain Method and Store Call Times\n",
    "def detect_communities_with_louvain(G):\n",
    "    # Louvain method to detect communities\n",
    "    partition = community_louvain.best_partition(G)\n",
    "    \n",
    "    # Create a dictionary to store nodes and edges per community\n",
    "    community_dict = {}\n",
    "    community_id = 1  # Start community IDs from 1\n",
    "\n",
    "    for node, community in partition.items():\n",
    "        if community not in community_dict:\n",
    "            community_dict[community] = {\n",
    "                'community_id': community_id,\n",
    "                'nodes': [],\n",
    "                'edges': []\n",
    "            }\n",
    "            community_id += 1\n",
    "        community_dict[community]['nodes'].append(node)\n",
    "    \n",
    "    # Add edges for each community\n",
    "    for community in community_dict.values():\n",
    "        for node1 in community['nodes']:\n",
    "            for node2 in community['nodes']:\n",
    "                if node1 < node2 and G.has_edge(node1, node2):\n",
    "                    # Get call times for each edge between nodes\n",
    "                    call_times = G[node1][node2]\n",
    "                    edge_info = {\n",
    "                        'node1': int(node1),  # Ensure int conversion\n",
    "                        'node2': int(node2),  # Ensure int conversion\n",
    "                        'begintijd': int(call_times['begintijd']),  # Ensure int conversion\n",
    "                        'eindtijd': int(call_times['eindtijd'])  # Ensure int conversion\n",
    "                    }\n",
    "                    if edge_info not in community['edges']:\n",
    "                        community['edges'].append(edge_info)\n",
    "    \n",
    "    return list(community_dict.values())"
   ]
  },
  {
   "cell_type": "code",
   "execution_count": 9,
   "metadata": {},
   "outputs": [],
   "source": [
    "def store_communities_with_call_times(communities, output_file):\n",
    "    with open(output_file, 'w') as f:\n",
    "        json.dump(communities, f, indent=4)\n"
   ]
  },
  {
   "cell_type": "code",
   "execution_count": 10,
   "metadata": {},
   "outputs": [],
   "source": [
    "# Full pipeline\n",
    "def community_detection_with_louvain(csv_file, output_file):\n",
    "    # Load data\n",
    "    df = load_data(csv_file)\n",
    "    \n",
    "    # Build graph with call times\n",
    "    G = build_graph(df)\n",
    "    \n",
    "    # Detect communities using Louvain method\n",
    "    communities = detect_communities_with_louvain(G)\n",
    "    \n",
    "    # Store communities with call times\n",
    "    store_communities_with_call_times(communities, output_file)"
   ]
  },
  {
   "cell_type": "code",
   "execution_count": null,
   "metadata": {},
   "outputs": [],
   "source": [
    "data/avgRela50_data_50000_20.csv"
   ]
  },
  {
   "cell_type": "code",
   "execution_count": 7,
   "metadata": {},
   "outputs": [],
   "source": [
    "csv_file_path = '../data/avgRela50_data_50000_20.csv'  # replace with the actual CSV file path\n",
    "output_communities_file = '50K_20.json'\n",
    "community_detection_with_louvain(csv_file_path, output_communities_file)"
   ]
  },
  {
   "cell_type": "code",
   "execution_count": 8,
   "metadata": {},
   "outputs": [],
   "source": [
    "csv_file_path = '../data/full_data_1000.csv'  # replace with the actual CSV file path\n",
    "output_communities_file = '10K.json'\n",
    "community_detection_with_louvain(csv_file_path, output_communities_file)"
   ]
  },
  {
   "cell_type": "code",
   "execution_count": 9,
   "metadata": {},
   "outputs": [],
   "source": [
    "csv_file_path = '../data/small_test2_data.csv'  # replace with the actual CSV file path\n",
    "output_communities_file = 'Small_test.json'\n",
    "community_detection_with_louvain(csv_file_path, output_communities_file)"
   ]
  },
  {
   "cell_type": "code",
   "execution_count": 8,
   "metadata": {},
   "outputs": [],
   "source": [
    "csv_file_path = '../data/full_data_20000.csv'  # replace with the actual CSV file path\n",
    "output_communities_file = '20K.json'\n",
    "community_detection_with_louvain(csv_file_path, output_communities_file)"
   ]
  },
  {
   "cell_type": "markdown",
   "metadata": {},
   "source": [
    "## evaluation metric\n",
    "load datasets and run louvain algorithm on them"
   ]
  },
  {
   "cell_type": "code",
   "execution_count": 2,
   "metadata": {},
   "outputs": [],
   "source": [
    "import time"
   ]
  },
  {
   "cell_type": "markdown",
   "metadata": {},
   "source": [
    "### size evaluations"
   ]
  },
  {
   "cell_type": "code",
   "execution_count": 9,
   "metadata": {},
   "outputs": [
    {
     "name": "stdout",
     "output_type": "stream",
     "text": [
      "11.073784351348877\n"
     ]
    }
   ],
   "source": [
    "# nodes 3000, edges 20\n",
    "csv_file_path = '../data/avgRela50_data_3000_20.csv' \n",
    "output_communities_file = '3Knode_20edge.json'\n",
    "t0 = time.time()\n",
    "community_detection_with_louvain(csv_file_path, output_communities_file)\n",
    "t1 = time.time()\n",
    "total = t1-t0\n",
    "print(total)"
   ]
  },
  {
   "cell_type": "code",
   "execution_count": 10,
   "metadata": {},
   "outputs": [
    {
     "name": "stdout",
     "output_type": "stream",
     "text": [
      "25.070809841156006\n"
     ]
    }
   ],
   "source": [
    "# nodes 5000, edges 20\n",
    "csv_file_path = '../data/avgRela50_data_5000_20.csv' \n",
    "output_communities_file = '5Knode_20edge.json'\n",
    "t0 = time.time()\n",
    "community_detection_with_louvain(csv_file_path, output_communities_file)\n",
    "t1 = time.time()\n",
    "total = t1-t0\n",
    "print(total)"
   ]
  },
  {
   "cell_type": "code",
   "execution_count": 11,
   "metadata": {},
   "outputs": [
    {
     "name": "stdout",
     "output_type": "stream",
     "text": [
      "59.52233147621155\n"
     ]
    }
   ],
   "source": [
    "# nodes 10000, edges 20\n",
    "csv_file_path = '../data/avgRela50_data_10000_20.csv' \n",
    "output_communities_file = '10Knode_20edge.json'\n",
    "t0 = time.time()\n",
    "community_detection_with_louvain(csv_file_path, output_communities_file)\n",
    "t1 = time.time()\n",
    "total = t1-t0\n",
    "print(total)"
   ]
  },
  {
   "cell_type": "code",
   "execution_count": 11,
   "metadata": {},
   "outputs": [
    {
     "name": "stdout",
     "output_type": "stream",
     "text": [
      "85.41030240058899\n"
     ]
    }
   ],
   "source": [
    "# nodes 15000, edges 20\n",
    "csv_file_path = '../data/avgRela50_data_15000_20.csv' \n",
    "output_communities_file = '15Knode_20edge.json'\n",
    "t0 = time.time()\n",
    "community_detection_with_louvain(csv_file_path, output_communities_file)\n",
    "t1 = time.time()\n",
    "total = t1-t0\n",
    "print(total)"
   ]
  },
  {
   "cell_type": "code",
   "execution_count": 13,
   "metadata": {},
   "outputs": [
    {
     "name": "stdout",
     "output_type": "stream",
     "text": [
      "155.35351729393005\n"
     ]
    }
   ],
   "source": [
    "# nodes 20000, edges 20\n",
    "csv_file_path = '../data/avgRela50_data_20000_20.csv' \n",
    "output_communities_file = '20Knode_20edge.json'\n",
    "t0 = time.time()\n",
    "community_detection_with_louvain(csv_file_path, output_communities_file)\n",
    "t1 = time.time()\n",
    "total = t1-t0\n",
    "print(total)"
   ]
  },
  {
   "cell_type": "code",
   "execution_count": 13,
   "metadata": {},
   "outputs": [
    {
     "name": "stdout",
     "output_type": "stream",
     "text": [
      "341.9356949329376\n"
     ]
    }
   ],
   "source": [
    "# nodes 50000, edges 20\n",
    "csv_file_path = '../data/avgRela50_data_50000_20.csv' \n",
    "output_communities_file = '50Knode_20edge.json'\n",
    "t0 = time.time()\n",
    "community_detection_with_louvain(csv_file_path, output_communities_file)\n",
    "t1 = time.time()\n",
    "total = t1-t0\n",
    "print(total)"
   ]
  },
  {
   "cell_type": "code",
   "execution_count": null,
   "metadata": {},
   "outputs": [
    {
     "data": {
      "image/png": "[encoded data removed]",
      "text/plain": [
       "<Figure size 720x360 with 1 Axes>"
      ]
     },
     "metadata": {
      "needs_background": "light"
     },
     "output_type": "display_data"
    }
   ],
   "source": [
    "# graph to represent the speed of the algorithm for the various sizes of the data\n",
    "time3k = 11.073784351348877\n",
    "time5k = 25.070809841156006\n",
    "time10k = 59.52233147621155\n",
    "time15k = 85.41030240058899\n",
    "time20k = 155.35351729393005\n",
    "time50k = 341.9356949329376\n",
    "\n",
    "import matplotlib.pyplot as plt\n",
    "plt.figure(figsize=(10, 5))\n",
    "x = ['3K', '5K', '10K', '15K', '20K', '50K']\n",
    "y = [time3k, time5k, time10k, time15k, time20k, time50k]\n",
    "plt.plot(x, y, marker='o')\n",
    "plt.xlabel('Number of Nodes')\n",
    "plt.ylabel('Time in seconds')\n",
    "plt.title('Time taken for community detection with Louvain method')\n",
    "plt.grid()\n",
    "plt.show()"
   ]
  },
  {
   "cell_type": "markdown",
   "metadata": {},
   "source": [
    "### complexity evaluation"
   ]
  },
  {
   "cell_type": "code",
   "execution_count": 17,
   "metadata": {},
   "outputs": [
    {
     "name": "stdout",
     "output_type": "stream",
     "text": [
      "22.391884326934814\n"
     ]
    }
   ],
   "source": [
    "# nodes 20000, edges 3\n",
    "csv_file_path = '../data/avgRela50_data_20000_3.csv' \n",
    "output_communities_file = '10Knode_3edge.json'\n",
    "t0 = time.time()\n",
    "community_detection_with_louvain(csv_file_path, output_communities_file)\n",
    "t1 = time.time()\n",
    "total = t1-t0\n",
    "print(total)"
   ]
  },
  {
   "cell_type": "code",
   "execution_count": null,
   "metadata": {},
   "outputs": [
    {
     "name": "stdout",
     "output_type": "stream",
     "text": [
      "44.96259093284607\n"
     ]
    }
   ],
   "source": [
    "# nodes 20000, edges 5\n",
    "csv_file_path = '../data/avgRela50_data_20000_5.csv' \n",
    "output_communities_file = '10Knode_5edge.json'\n",
    "t0 = time.time()\n",
    "community_detection_with_louvain(csv_file_path, output_communities_file)\n",
    "t1 = time.time()\n",
    "total = t1-t0\n",
    "print(total)"
   ]
  },
  {
   "cell_type": "code",
   "execution_count": null,
   "metadata": {},
   "outputs": [
    {
     "name": "stdout",
     "output_type": "stream",
     "text": [
      "49.382936000823975\n"
     ]
    }
   ],
   "source": [
    "# nodes 20000, edges 10\n",
    "csv_file_path = '../data/avgRela50_data_20000_10.csv' \n",
    "output_communities_file = '10Knode_10edge.json'\n",
    "t0 = time.time()\n",
    "community_detection_with_louvain(csv_file_path, output_communities_file)\n",
    "t1 = time.time()\n",
    "total = t1-t0\n",
    "print(total)"
   ]
  },
  {
   "cell_type": "code",
   "execution_count": null,
   "metadata": {},
   "outputs": [
    {
     "name": "stdout",
     "output_type": "stream",
     "text": [
      "53.61463212966919\n"
     ]
    }
   ],
   "source": [
    "# nodes 20000, edges 15\n",
    "csv_file_path = '../data/avgRela50_data_20000_15.csv' \n",
    "output_communities_file = '10Knode_15edge.json'\n",
    "t0 = time.time()\n",
    "community_detection_with_louvain(csv_file_path, output_communities_file)\n",
    "t1 = time.time()\n",
    "total = t1-t0\n",
    "print(total)"
   ]
  },
  {
   "cell_type": "code",
   "execution_count": null,
   "metadata": {},
   "outputs": [
    {
     "name": "stdout",
     "output_type": "stream",
     "text": [
      "64.18218731880188\n"
     ]
    }
   ],
   "source": [
    "# nodes 20000, edges 20\n",
    "csv_file_path = '../data/avgRela50_data_20000_20.csv' \n",
    "output_communities_file = '10Knode_20edge.json'\n",
    "t0 = time.time()\n",
    "community_detection_with_louvain(csv_file_path, output_communities_file)\n",
    "t1 = time.time()\n",
    "total = t1-t0\n",
    "print(total)"
   ]
  },
  {
   "cell_type": "code",
   "execution_count": null,
   "metadata": {},
   "outputs": [
    {
     "data": {
      "image/png": "[encoded data removed]",
      "text/plain": [
       "<Figure size 720x360 with 1 Axes>"
      ]
     },
     "metadata": {
      "needs_background": "light"
     },
     "output_type": "display_data"
    }
   ],
   "source": [
    "# graph to represent the speed of the algorithm for the various avg. number of edges\n",
    "time3 = 21.12712025642395\n",
    "time5 = 44.96259093284607\n",
    "time10 = 49.382936000823975\n",
    "time15 = 53.61463212966919\n",
    "time20 = 64.18218731880188\n",
    "\n",
    "plt.figure(figsize=(10, 5))\n",
    "x = ['3', '5', '10', '15', '20']\n",
    "y = [time3, time5, time10, time15, time20]\n",
    "plt.plot(x, y, marker='o')\n",
    "plt.xlabel('Average number of relations per node')\n",
    "plt.ylabel('Time in seconds')\n",
    "plt.title('Time taken for community detection with Louvain method')\n",
    "plt.grid()\n",
    "plt.show()"
   ]
  }
 ],
 "metadata": {
  "kernelspec": {
   "display_name": "Python 3",
   "language": "python",
   "name": "python3"
  },
  "language_info": {
   "codemirror_mode": {
    "name": "ipython",
    "version": 3
   },
   "file_extension": ".py",
   "mimetype": "text/x-python",
   "name": "python",
   "nbconvert_exporter": "python",
   "pygments_lexer": "ipython3",
   "version": "3.10.12"
  },
  "orig_nbformat": 4
 },
 "nbformat": 4,
 "nbformat_minor": 2
}
